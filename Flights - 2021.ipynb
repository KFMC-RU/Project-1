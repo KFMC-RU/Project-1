{
 "cells": [
  {
   "cell_type": "code",
   "execution_count": 1,
   "id": "b4b42250",
   "metadata": {},
   "outputs": [
    {
     "name": "stdout",
     "output_type": "stream",
     "text": [
      "Requirement already satisfied: plotly-calplot in c:\\users\\cpsca\\anaconda3\\envs\\dev\\lib\\site-packages (0.1.20)\n",
      "Requirement already satisfied: numpy<2.0.0,>=1.22.3 in c:\\users\\cpsca\\anaconda3\\envs\\dev\\lib\\site-packages (from plotly-calplot) (1.24.3)\n",
      "Requirement already satisfied: pandas in c:\\users\\cpsca\\anaconda3\\envs\\dev\\lib\\site-packages (from plotly-calplot) (2.0.3)\n",
      "Requirement already satisfied: plotly<6.0.0,>=5.4.0 in c:\\users\\cpsca\\anaconda3\\envs\\dev\\lib\\site-packages (from plotly-calplot) (5.9.0)\n",
      "Requirement already satisfied: pytz<2024.0,>=2023.3.post1 in c:\\users\\cpsca\\anaconda3\\envs\\dev\\lib\\site-packages (from plotly-calplot) (2023.3.post1)\n",
      "Requirement already satisfied: tenacity>=6.2.0 in c:\\users\\cpsca\\anaconda3\\envs\\dev\\lib\\site-packages (from plotly<6.0.0,>=5.4.0->plotly-calplot) (8.2.2)\n",
      "Requirement already satisfied: python-dateutil>=2.8.2 in c:\\users\\cpsca\\anaconda3\\envs\\dev\\lib\\site-packages (from pandas->plotly-calplot) (2.8.2)\n",
      "Requirement already satisfied: tzdata>=2022.1 in c:\\users\\cpsca\\anaconda3\\envs\\dev\\lib\\site-packages (from pandas->plotly-calplot) (2023.3)\n",
      "Requirement already satisfied: six>=1.5 in c:\\users\\cpsca\\anaconda3\\envs\\dev\\lib\\site-packages (from python-dateutil>=2.8.2->pandas->plotly-calplot) (1.16.0)\n",
      "Note: you may need to restart the kernel to use updated packages.\n"
     ]
    }
   ],
   "source": [
    "pip install plotly-calplot"
   ]
  },
  {
   "cell_type": "code",
   "execution_count": 2,
   "id": "2b6244b6",
   "metadata": {},
   "outputs": [
    {
     "name": "stdout",
     "output_type": "stream",
     "text": [
      "Requirement already satisfied: calmap in c:\\users\\cpsca\\anaconda3\\envs\\dev\\lib\\site-packages (0.0.11)\n",
      "Requirement already satisfied: matplotlib in c:\\users\\cpsca\\anaconda3\\envs\\dev\\lib\\site-packages (from calmap) (3.7.2)\n",
      "Requirement already satisfied: numpy in c:\\users\\cpsca\\anaconda3\\envs\\dev\\lib\\site-packages (from calmap) (1.24.3)\n",
      "Requirement already satisfied: pandas in c:\\users\\cpsca\\anaconda3\\envs\\dev\\lib\\site-packages (from calmap) (2.0.3)\n",
      "Requirement already satisfied: contourpy>=1.0.1 in c:\\users\\cpsca\\anaconda3\\envs\\dev\\lib\\site-packages (from matplotlib->calmap) (1.0.5)\n",
      "Requirement already satisfied: cycler>=0.10 in c:\\users\\cpsca\\anaconda3\\envs\\dev\\lib\\site-packages (from matplotlib->calmap) (0.11.0)\n",
      "Requirement already satisfied: fonttools>=4.22.0 in c:\\users\\cpsca\\anaconda3\\envs\\dev\\lib\\site-packages (from matplotlib->calmap) (4.25.0)\n",
      "Requirement already satisfied: kiwisolver>=1.0.1 in c:\\users\\cpsca\\anaconda3\\envs\\dev\\lib\\site-packages (from matplotlib->calmap) (1.4.4)\n",
      "Requirement already satisfied: packaging>=20.0 in c:\\users\\cpsca\\anaconda3\\envs\\dev\\lib\\site-packages (from matplotlib->calmap) (23.1)\n",
      "Requirement already satisfied: pillow>=6.2.0 in c:\\users\\cpsca\\anaconda3\\envs\\dev\\lib\\site-packages (from matplotlib->calmap) (9.4.0)\n",
      "Requirement already satisfied: pyparsing<3.1,>=2.3.1 in c:\\users\\cpsca\\anaconda3\\envs\\dev\\lib\\site-packages (from matplotlib->calmap) (3.0.9)\n",
      "Requirement already satisfied: python-dateutil>=2.7 in c:\\users\\cpsca\\anaconda3\\envs\\dev\\lib\\site-packages (from matplotlib->calmap) (2.8.2)\n",
      "Requirement already satisfied: pytz>=2020.1 in c:\\users\\cpsca\\anaconda3\\envs\\dev\\lib\\site-packages (from pandas->calmap) (2023.3.post1)\n",
      "Requirement already satisfied: tzdata>=2022.1 in c:\\users\\cpsca\\anaconda3\\envs\\dev\\lib\\site-packages (from pandas->calmap) (2023.3)\n",
      "Requirement already satisfied: six>=1.5 in c:\\users\\cpsca\\anaconda3\\envs\\dev\\lib\\site-packages (from python-dateutil>=2.7->matplotlib->calmap) (1.16.0)\n",
      "Note: you may need to restart the kernel to use updated packages.\n"
     ]
    }
   ],
   "source": [
    "pip install calmap"
   ]
  },
  {
   "cell_type": "code",
   "execution_count": 3,
   "id": "fecbfdf5",
   "metadata": {},
   "outputs": [],
   "source": [
    "import pandas as pd\n",
    "import numpy as np\n",
    "import seaborn as sns\n",
    "import matplotlib.pyplot as plt\n",
    "import glob\n",
    "import calmap\n",
    "from plotly_calplot import calplot"
   ]
  },
  {
   "cell_type": "code",
   "execution_count": 53,
   "id": "a1935a60",
   "metadata": {},
   "outputs": [
    {
     "name": "stdout",
     "output_type": "stream",
     "text": [
      "   FlightDate                Airline Origin Dest  Cancelled  Diverted  \\\n",
      "0  2021-03-03  SkyWest Airlines Inc.    SGU  PHX      False     False   \n",
      "1  2021-03-03  SkyWest Airlines Inc.    PHX  SGU      False     False   \n",
      "2  2021-03-03  SkyWest Airlines Inc.    MHT  ORD      False     False   \n",
      "3  2021-03-03  SkyWest Airlines Inc.    DFW  TRI      False     False   \n",
      "4  2021-03-03  SkyWest Airlines Inc.    PHX  BFL      False     False   \n",
      "\n",
      "   CRSDepTime  DepTime  DepDelayMinutes  DepDelay  ...  WheelsOff  WheelsOn  \\\n",
      "0         724    714.0              0.0     -10.0  ...      724.0     813.0   \n",
      "1         922    917.0              0.0      -5.0  ...      940.0    1028.0   \n",
      "2        1330   1321.0              0.0      -9.0  ...     1336.0    1445.0   \n",
      "3        1645   1636.0              0.0      -9.0  ...     1703.0    1955.0   \n",
      "4        1844   1838.0              0.0      -6.0  ...     1851.0    1900.0   \n",
      "\n",
      "   TaxiIn  CRSArrTime  ArrDelay  ArrDel15  ArrivalDelayGroups  ArrTimeBlk  \\\n",
      "0     5.0         843     -25.0       0.0                -2.0   0800-0859   \n",
      "1     3.0        1040      -9.0       0.0                -1.0   1000-1059   \n",
      "2    16.0        1530     -29.0       0.0                -2.0   1500-1559   \n",
      "3     7.0        2010      -8.0       0.0                -1.0   2000-2059   \n",
      "4     3.0        1925     -22.0       0.0                -2.0   1900-1959   \n",
      "\n",
      "   DistanceGroup  DivAirportLandings  \n",
      "0              2                 0.0  \n",
      "1              2                 0.0  \n",
      "2              4                 0.0  \n",
      "3              4                 0.0  \n",
      "4              2                 0.0  \n",
      "\n",
      "[5 rows x 61 columns]\n"
     ]
    }
   ],
   "source": [
    "df = pd.read_csv('Combined_Flights_2021.csv')\n",
    "print(df.head(5))"
   ]
  },
  {
   "cell_type": "code",
   "execution_count": 54,
   "id": "4a89614b",
   "metadata": {},
   "outputs": [
    {
     "name": "stdout",
     "output_type": "stream",
     "text": [
      "         CRSDepTime       DepTime  DepDelayMinutes      DepDelay  \\\n",
      "count  6.311871e+06  6.203546e+06     6.203458e+06  6.203458e+06   \n",
      "mean   1.323953e+03  1.326878e+03     1.276132e+01  9.468347e+00   \n",
      "std    4.741972e+02  4.868330e+02     4.736319e+01  4.837844e+01   \n",
      "min    1.000000e+00  1.000000e+00     0.000000e+00 -1.050000e+02   \n",
      "25%    9.200000e+02  9.230000e+02     0.000000e+00 -6.000000e+00   \n",
      "50%    1.315000e+03  1.321000e+03     0.000000e+00 -2.000000e+00   \n",
      "75%    1.723000e+03  1.729000e+03     6.000000e+00  6.000000e+00   \n",
      "max    2.359000e+03  2.400000e+03     3.095000e+03  3.095000e+03   \n",
      "\n",
      "            ArrTime  ArrDelayMinutes       AirTime  CRSElapsedTime  \\\n",
      "count  6.199463e+06     6.185870e+06  6.185870e+06    6.311870e+06   \n",
      "mean   1.476758e+03     1.252928e+01  1.105702e+02    1.405049e+02   \n",
      "std    5.137709e+02     4.674770e+01  6.888632e+01    7.031368e+01   \n",
      "min    1.000000e+00     0.000000e+00  8.000000e+00   -2.920000e+02   \n",
      "25%    1.105000e+03     0.000000e+00  6.000000e+01    9.000000e+01   \n",
      "50%    1.509000e+03     0.000000e+00  9.400000e+01    1.240000e+02   \n",
      "75%    1.909000e+03     6.000000e+00  1.400000e+02    1.700000e+02   \n",
      "max    2.400000e+03     3.089000e+03  7.110000e+02    1.312000e+03   \n",
      "\n",
      "       ActualElapsedTime      Distance  ...       TaxiOut     WheelsOff  \\\n",
      "count       6.185870e+06  6.311871e+06  ...  6.201518e+06  6.201518e+06   \n",
      "mean        1.344372e+02  7.955762e+02  ...  1.619500e+01  1.349829e+03   \n",
      "std         7.023792e+01  5.832931e+02  ...  8.584121e+00  4.879919e+02   \n",
      "min         1.400000e+01  3.100000e+01  ...  1.000000e+00  1.000000e+00   \n",
      "25%         8.300000e+01  3.700000e+02  ...  1.100000e+01  9.380000e+02   \n",
      "50%         1.180000e+02  6.460000e+02  ...  1.400000e+01  1.334000e+03   \n",
      "75%         1.650000e+02  1.033000e+03  ...  1.900000e+01  1.743000e+03   \n",
      "max         7.940000e+02  5.812000e+03  ...  2.560000e+02  2.400000e+03   \n",
      "\n",
      "           WheelsOn        TaxiIn    CRSArrTime      ArrDelay      ArrDel15  \\\n",
      "count  6.199446e+06  6.199446e+06  6.311871e+06  6.185870e+06  6.185870e+06   \n",
      "mean   1.471500e+03  7.683753e+00  1.498272e+03  3.290244e+00  1.726611e-01   \n",
      "std    5.096815e+02  6.375447e+00  4.946565e+02  5.012311e+01  3.779540e-01   \n",
      "min    1.000000e+00  1.000000e+00  1.000000e+00 -1.070000e+02  0.000000e+00   \n",
      "25%    1.101000e+03  4.000000e+00  1.118000e+03 -1.600000e+01  0.000000e+00   \n",
      "50%    1.505000e+03  6.000000e+00  1.520000e+03 -7.000000e+00  0.000000e+00   \n",
      "75%    1.904000e+03  9.000000e+00  1.914000e+03  6.000000e+00  0.000000e+00   \n",
      "max    2.400000e+03  2.510000e+02  2.400000e+03  3.089000e+03  1.000000e+00   \n",
      "\n",
      "       ArrivalDelayGroups  DistanceGroup  DivAirportLandings  \n",
      "count        6.185870e+06   6.311871e+06        6.311869e+06  \n",
      "mean        -3.158285e-01   3.653994e+00        3.338472e-03  \n",
      "std          2.266604e+00   2.281563e+00        1.046246e-01  \n",
      "min         -2.000000e+00   1.000000e+00        0.000000e+00  \n",
      "25%         -2.000000e+00   2.000000e+00        0.000000e+00  \n",
      "50%         -1.000000e+00   3.000000e+00        0.000000e+00  \n",
      "75%          0.000000e+00   5.000000e+00        0.000000e+00  \n",
      "max          1.200000e+01   1.100000e+01        9.000000e+00  \n",
      "\n",
      "[8 rows x 41 columns]\n"
     ]
    }
   ],
   "source": [
    "print(df.describe()) "
   ]
  },
  {
   "cell_type": "code",
   "execution_count": 55,
   "id": "f0003400",
   "metadata": {},
   "outputs": [
    {
     "name": "stdout",
     "output_type": "stream",
     "text": [
      "FlightDate             object\n",
      "Airline                object\n",
      "Origin                 object\n",
      "Dest                   object\n",
      "Cancelled                bool\n",
      "                       ...   \n",
      "ArrDel15              float64\n",
      "ArrivalDelayGroups    float64\n",
      "ArrTimeBlk             object\n",
      "DistanceGroup           int64\n",
      "DivAirportLandings    float64\n",
      "Length: 61, dtype: object\n"
     ]
    }
   ],
   "source": [
    "print(df.dtypes)"
   ]
  },
  {
   "cell_type": "code",
   "execution_count": 56,
   "id": "6da553e1",
   "metadata": {},
   "outputs": [
    {
     "data": {
      "text/plain": [
       "Airline\n",
       "Southwest Airlines Co.                       1064640\n",
       "SkyWest Airlines Inc.                         753343\n",
       "Delta Air Lines Inc.                          747998\n",
       "American Airlines Inc.                        736399\n",
       "United Air Lines Inc.                         446837\n",
       "Republic Airlines                             332926\n",
       "Endeavor Air Inc.                             266867\n",
       "Envoy Air                                     255751\n",
       "Comair Inc.                                   222602\n",
       "JetBlue Airways                               202702\n",
       "Spirit Air Lines                              191361\n",
       "Alaska Airlines Inc.                          188955\n",
       "Mesa Airlines Inc.                            159789\n",
       "Frontier Airlines Inc.                        137142\n",
       "Allegiant Air                                 115881\n",
       "Horizon Air                                   111628\n",
       "Capital Cargo International                    99331\n",
       "Air Wisconsin Airlines Corp                    80256\n",
       "Commutair Aka Champlain Enterprises, Inc.      76666\n",
       "Hawaiian Airlines Inc.                         60542\n",
       "GoJet Airlines, LLC d/b/a United Express       60143\n",
       "Empire Airlines Inc.                             112\n",
       "Name: count, dtype: int64"
      ]
     },
     "execution_count": 56,
     "metadata": {},
     "output_type": "execute_result"
    }
   ],
   "source": [
    "df['Airline'].value_counts() #most flights"
   ]
  },
  {
   "cell_type": "code",
   "execution_count": 57,
   "id": "44f49caa",
   "metadata": {},
   "outputs": [
    {
     "data": {
      "text/plain": [
       "<Axes: title={'center': 'Flight Delay (Minutes)'}, ylabel='Frequency'>"
      ]
     },
     "execution_count": 57,
     "metadata": {},
     "output_type": "execute_result"
    },
    {
     "data": {
      "image/png": "[encoded data removed]",
      "text/plain": [
       "<Figure size 640x480 with 1 Axes>"
      ]
     },
     "metadata": {},
     "output_type": "display_data"
    }
   ],
   "source": [
    "df.query('DepDelayMinutes < 30')['DepDelayMinutes'].plot(kind='hist', bins=30,\n",
    "                                                        title='Flight Delay (Minutes)')"
   ]
  },
  {
   "cell_type": "code",
   "execution_count": 58,
   "id": "cf756c70",
   "metadata": {},
   "outputs": [
    {
     "data": {
      "text/plain": [
       "<Axes: title={'center': 'Flight Delay (Minutes)'}, ylabel='Frequency'>"
      ]
     },
     "execution_count": 58,
     "metadata": {},
     "output_type": "execute_result"
    },
    {
     "data": {
      "image/png": "[encoded data removed]",
      "text/plain": [
       "<Figure size 640x480 with 1 Axes>"
      ]
     },
     "metadata": {},
     "output_type": "display_data"
    }
   ],
   "source": [
    "df.query('(DepDelayMinutes > 0) and (DepDelayMinutes < 61)')['DepDelayMinutes'].plot(kind='hist', bins=60,\n",
    "                                                                                     title='Flight Delay (Minutes)')"
   ]
  },
  {
   "cell_type": "code",
   "execution_count": 59,
   "id": "f7e5e641",
   "metadata": {},
   "outputs": [],
   "source": [
    "df['DelayGroup'] = None\n",
    "df.loc[df['DepDelayMinutes'] == 0, 'DelayGroup'] = 'OnTime_Early'\n",
    "df.loc[(df['DepDelayMinutes'] > 0) & (df['DepDelayMinutes'] <= 15), 'DelayGroup'] = 'Small_Delay'\n",
    "df.loc[(df['DepDelayMinutes'] > 15) & (df['DepDelayMinutes'] <= 45), 'DelayGroup'] = 'Medium_Delay'\n",
    "df.loc[df['DepDelayMinutes'] > 45, 'DelayGroup'] = 'Large_Delay'\n",
    "df.loc[df['Cancelled'], 'DelayGroup'] = 'Cancelled'"
   ]
  },
  {
   "cell_type": "code",
   "execution_count": 60,
   "id": "acfb7964",
   "metadata": {},
   "outputs": [
    {
     "data": {
      "text/html": [
       "<div>\n",
       "<style scoped>\n",
       "    .dataframe tbody tr th:only-of-type {\n",
       "        vertical-align: middle;\n",
       "    }\n",
       "\n",
       "    .dataframe tbody tr th {\n",
       "        vertical-align: top;\n",
       "    }\n",
       "\n",
       "    .dataframe thead th {\n",
       "        text-align: right;\n",
       "    }\n",
       "</style>\n",
       "<table border=\"1\" class=\"dataframe\">\n",
       "  <thead>\n",
       "    <tr style=\"text-align: right;\">\n",
       "      <th></th>\n",
       "      <th>FlightDate</th>\n",
       "      <th>Airline</th>\n",
       "      <th>Origin</th>\n",
       "      <th>Dest</th>\n",
       "      <th>Cancelled</th>\n",
       "      <th>Diverted</th>\n",
       "      <th>CRSDepTime</th>\n",
       "      <th>DepTime</th>\n",
       "      <th>DepDelayMinutes</th>\n",
       "      <th>DepDelay</th>\n",
       "      <th>...</th>\n",
       "      <th>WheelsOn</th>\n",
       "      <th>TaxiIn</th>\n",
       "      <th>CRSArrTime</th>\n",
       "      <th>ArrDelay</th>\n",
       "      <th>ArrDel15</th>\n",
       "      <th>ArrivalDelayGroups</th>\n",
       "      <th>ArrTimeBlk</th>\n",
       "      <th>DistanceGroup</th>\n",
       "      <th>DivAirportLandings</th>\n",
       "      <th>DelayGroup</th>\n",
       "    </tr>\n",
       "  </thead>\n",
       "  <tbody>\n",
       "    <tr>\n",
       "      <th>0</th>\n",
       "      <td>2021-03-03</td>\n",
       "      <td>SkyWest Airlines Inc.</td>\n",
       "      <td>SGU</td>\n",
       "      <td>PHX</td>\n",
       "      <td>False</td>\n",
       "      <td>False</td>\n",
       "      <td>724</td>\n",
       "      <td>714.0</td>\n",
       "      <td>0.0</td>\n",
       "      <td>-10.0</td>\n",
       "      <td>...</td>\n",
       "      <td>813.0</td>\n",
       "      <td>5.0</td>\n",
       "      <td>843</td>\n",
       "      <td>-25.0</td>\n",
       "      <td>0.0</td>\n",
       "      <td>-2.0</td>\n",
       "      <td>0800-0859</td>\n",
       "      <td>2</td>\n",
       "      <td>0.0</td>\n",
       "      <td>OnTime_Early</td>\n",
       "    </tr>\n",
       "    <tr>\n",
       "      <th>1</th>\n",
       "      <td>2021-03-03</td>\n",
       "      <td>SkyWest Airlines Inc.</td>\n",
       "      <td>PHX</td>\n",
       "      <td>SGU</td>\n",
       "      <td>False</td>\n",
       "      <td>False</td>\n",
       "      <td>922</td>\n",
       "      <td>917.0</td>\n",
       "      <td>0.0</td>\n",
       "      <td>-5.0</td>\n",
       "      <td>...</td>\n",
       "      <td>1028.0</td>\n",
       "      <td>3.0</td>\n",
       "      <td>1040</td>\n",
       "      <td>-9.0</td>\n",
       "      <td>0.0</td>\n",
       "      <td>-1.0</td>\n",
       "      <td>1000-1059</td>\n",
       "      <td>2</td>\n",
       "      <td>0.0</td>\n",
       "      <td>OnTime_Early</td>\n",
       "    </tr>\n",
       "    <tr>\n",
       "      <th>2</th>\n",
       "      <td>2021-03-03</td>\n",
       "      <td>SkyWest Airlines Inc.</td>\n",
       "      <td>MHT</td>\n",
       "      <td>ORD</td>\n",
       "      <td>False</td>\n",
       "      <td>False</td>\n",
       "      <td>1330</td>\n",
       "      <td>1321.0</td>\n",
       "      <td>0.0</td>\n",
       "      <td>-9.0</td>\n",
       "      <td>...</td>\n",
       "      <td>1445.0</td>\n",
       "      <td>16.0</td>\n",
       "      <td>1530</td>\n",
       "      <td>-29.0</td>\n",
       "      <td>0.0</td>\n",
       "      <td>-2.0</td>\n",
       "      <td>1500-1559</td>\n",
       "      <td>4</td>\n",
       "      <td>0.0</td>\n",
       "      <td>OnTime_Early</td>\n",
       "    </tr>\n",
       "    <tr>\n",
       "      <th>3</th>\n",
       "      <td>2021-03-03</td>\n",
       "      <td>SkyWest Airlines Inc.</td>\n",
       "      <td>DFW</td>\n",
       "      <td>TRI</td>\n",
       "      <td>False</td>\n",
       "      <td>False</td>\n",
       "      <td>1645</td>\n",
       "      <td>1636.0</td>\n",
       "      <td>0.0</td>\n",
       "      <td>-9.0</td>\n",
       "      <td>...</td>\n",
       "      <td>1955.0</td>\n",
       "      <td>7.0</td>\n",
       "      <td>2010</td>\n",
       "      <td>-8.0</td>\n",
       "      <td>0.0</td>\n",
       "      <td>-1.0</td>\n",
       "      <td>2000-2059</td>\n",
       "      <td>4</td>\n",
       "      <td>0.0</td>\n",
       "      <td>OnTime_Early</td>\n",
       "    </tr>\n",
       "    <tr>\n",
       "      <th>4</th>\n",
       "      <td>2021-03-03</td>\n",
       "      <td>SkyWest Airlines Inc.</td>\n",
       "      <td>PHX</td>\n",
       "      <td>BFL</td>\n",
       "      <td>False</td>\n",
       "      <td>False</td>\n",
       "      <td>1844</td>\n",
       "      <td>1838.0</td>\n",
       "      <td>0.0</td>\n",
       "      <td>-6.0</td>\n",
       "      <td>...</td>\n",
       "      <td>1900.0</td>\n",
       "      <td>3.0</td>\n",
       "      <td>1925</td>\n",
       "      <td>-22.0</td>\n",
       "      <td>0.0</td>\n",
       "      <td>-2.0</td>\n",
       "      <td>1900-1959</td>\n",
       "      <td>2</td>\n",
       "      <td>0.0</td>\n",
       "      <td>OnTime_Early</td>\n",
       "    </tr>\n",
       "  </tbody>\n",
       "</table>\n",
       "<p>5 rows × 62 columns</p>\n",
       "</div>"
      ],
      "text/plain": [
       "   FlightDate                Airline Origin Dest  Cancelled  Diverted  \\\n",
       "0  2021-03-03  SkyWest Airlines Inc.    SGU  PHX      False     False   \n",
       "1  2021-03-03  SkyWest Airlines Inc.    PHX  SGU      False     False   \n",
       "2  2021-03-03  SkyWest Airlines Inc.    MHT  ORD      False     False   \n",
       "3  2021-03-03  SkyWest Airlines Inc.    DFW  TRI      False     False   \n",
       "4  2021-03-03  SkyWest Airlines Inc.    PHX  BFL      False     False   \n",
       "\n",
       "   CRSDepTime  DepTime  DepDelayMinutes  DepDelay  ...  WheelsOn  TaxiIn  \\\n",
       "0         724    714.0              0.0     -10.0  ...     813.0     5.0   \n",
       "1         922    917.0              0.0      -5.0  ...    1028.0     3.0   \n",
       "2        1330   1321.0              0.0      -9.0  ...    1445.0    16.0   \n",
       "3        1645   1636.0              0.0      -9.0  ...    1955.0     7.0   \n",
       "4        1844   1838.0              0.0      -6.0  ...    1900.0     3.0   \n",
       "\n",
       "   CRSArrTime  ArrDelay  ArrDel15  ArrivalDelayGroups  ArrTimeBlk  \\\n",
       "0         843     -25.0       0.0                -2.0   0800-0859   \n",
       "1        1040      -9.0       0.0                -1.0   1000-1059   \n",
       "2        1530     -29.0       0.0                -2.0   1500-1559   \n",
       "3        2010      -8.0       0.0                -1.0   2000-2059   \n",
       "4        1925     -22.0       0.0                -2.0   1900-1959   \n",
       "\n",
       "   DistanceGroup  DivAirportLandings    DelayGroup  \n",
       "0              2                 0.0  OnTime_Early  \n",
       "1              2                 0.0  OnTime_Early  \n",
       "2              4                 0.0  OnTime_Early  \n",
       "3              4                 0.0  OnTime_Early  \n",
       "4              2                 0.0  OnTime_Early  \n",
       "\n",
       "[5 rows x 62 columns]"
      ]
     },
     "execution_count": 60,
     "metadata": {},
     "output_type": "execute_result"
    }
   ],
   "source": [
    "df.head()"
   ]
  },
  {
   "cell_type": "code",
   "execution_count": 61,
   "id": "ecf4f74e",
   "metadata": {},
   "outputs": [
    {
     "name": "stdout",
     "output_type": "stream",
     "text": [
      "Cancelled\n",
      "False    6200853\n",
      "True      111018\n",
      "Name: count, dtype: int64\n",
      "Percent Cancelled : 1.76 % of all flights\n"
     ]
    }
   ],
   "source": [
    "print(df['Cancelled'].value_counts())\n",
    "print('Percent Cancelled :', round(sum(df['Cancelled'] == True) / len(df['Cancelled']) * 100, 2), '% of all flights')"
   ]
  },
  {
   "cell_type": "code",
   "execution_count": 62,
   "id": "26e83206",
   "metadata": {},
   "outputs": [
    {
     "name": "stdout",
     "output_type": "stream",
     "text": [
      "Diverted\n",
      "False    6296889\n",
      "True       14982\n",
      "Name: count, dtype: int64\n",
      "Percent Diverted : 0.24 % of all flights\n"
     ]
    }
   ],
   "source": [
    "print(df['Diverted'].value_counts())\n",
    "print('Percent Diverted :', round(sum(df['Diverted'] == True) / len(df['Diverted']) * 100, 2), '% of all flights') "
   ]
  },
  {
   "cell_type": "code",
   "execution_count": 63,
   "id": "a8f2c6ef",
   "metadata": {},
   "outputs": [
    {
     "data": {
      "text/plain": [
       "DelayGroup\n",
       "OnTime_Early    4146782\n",
       "Small_Delay     1019071\n",
       "Medium_Delay     562885\n",
       "Large_Delay      472115\n",
       "Cancelled        111018\n",
       "Name: count, dtype: int64"
      ]
     },
     "execution_count": 63,
     "metadata": {},
     "output_type": "execute_result"
    }
   ],
   "source": [
    "df['DelayGroup'].value_counts()"
   ]
  },
  {
   "cell_type": "code",
   "execution_count": 64,
   "id": "1c1f4a8b",
   "metadata": {},
   "outputs": [],
   "source": [
    "pal = sns.color_palette()"
   ]
  },
  {
   "cell_type": "code",
   "execution_count": 65,
   "id": "c2c7cc6e",
   "metadata": {},
   "outputs": [
    {
     "data": {
      "text/plain": [
       "<Axes: title={'center': 'Delay Category'}, ylabel='DelayGroup'>"
      ]
     },
     "execution_count": 65,
     "metadata": {},
     "output_type": "execute_result"
    },
    {
     "data": {
      "image/png": "[encoded data removed]",
      "text/plain": [
       "<Figure size 1000x500 with 1 Axes>"
      ]
     },
     "metadata": {},
     "output_type": "display_data"
    }
   ],
   "source": [
    "df['DelayGroup'].value_counts(ascending=True).plot(kind='barh', color=pal[3], title='Delay Category', figsize=(10,5))"
   ]
  },
  {
   "cell_type": "code",
   "execution_count": 66,
   "id": "0114bd31",
   "metadata": {},
   "outputs": [
    {
     "name": "stdout",
     "output_type": "stream",
     "text": [
      "DelayGroup\n",
      "OnTime_Early    65.70\n",
      "Small_Delay     16.15\n",
      "Medium_Delay     8.92\n",
      "Large_Delay      7.48\n",
      "Cancelled        1.76\n",
      "Name: count, dtype: float64\n",
      "100.0\n"
     ]
    }
   ],
   "source": [
    "print((df['DelayGroup'].value_counts() / df.shape[0] * 100).round(2))\n",
    "print(sum(df['DelayGroup'].value_counts() / df.shape[0] * 100))"
   ]
  },
  {
   "cell_type": "code",
   "execution_count": 67,
   "id": "06874366",
   "metadata": {},
   "outputs": [
    {
     "data": {
      "text/plain": [
       "DelayGroup\n",
       "OnTime_Early    65.698142\n",
       "Small_Delay     16.145308\n",
       "Medium_Delay     8.917879\n",
       "Large_Delay      7.479795\n",
       "Cancelled        1.758876\n",
       "Name: proportion, dtype: float64"
      ]
     },
     "execution_count": 67,
     "metadata": {},
     "output_type": "execute_result"
    }
   ],
   "source": [
    "df['DelayGroup'].value_counts(normalize=True) * 100 # normalize to return proportions rather than frequencies."
   ]
  },
  {
   "cell_type": "code",
   "execution_count": 68,
   "id": "1de5e12a",
   "metadata": {},
   "outputs": [
    {
     "data": {
      "text/plain": [
       "Text(0.5, 0.98, 'Delay Groups')"
      ]
     },
     "execution_count": 68,
     "metadata": {},
     "output_type": "execute_result"
    },
    {
     "data": {
      "image/png": "[encoded data removed]",
      "text/plain": [
       "<Figure size 800x600 with 1 Axes>"
      ]
     },
     "metadata": {},
     "output_type": "display_data"
    }
   ],
   "source": [
    "plt.figure(figsize=(8,6))\n",
    "sns.countplot(data=df, x='DelayGroup')\n",
    "plt.suptitle('Delay Groups')"
   ]
  },
  {
   "cell_type": "code",
   "execution_count": 69,
   "id": "0783de8c",
   "metadata": {},
   "outputs": [],
   "source": [
    "df['FlightDate'] = pd.to_datetime(df['FlightDate']) # Original as object."
   ]
  },
  {
   "cell_type": "code",
   "execution_count": 70,
   "id": "6df64288",
   "metadata": {},
   "outputs": [
    {
     "data": {
      "text/plain": [
       "count                          6311871\n",
       "mean     2021-07-15 12:56:53.561021696\n",
       "min                2021-01-01 00:00:00\n",
       "25%                2021-04-25 00:00:00\n",
       "50%                2021-07-20 00:00:00\n",
       "75%                2021-10-10 00:00:00\n",
       "max                2021-12-31 00:00:00\n",
       "Name: FlightDate, dtype: object"
      ]
     },
     "execution_count": 70,
     "metadata": {},
     "output_type": "execute_result"
    }
   ],
   "source": [
    "df['FlightDate'].describe()"
   ]
  },
  {
   "cell_type": "code",
   "execution_count": 71,
   "id": "2fa8ec93",
   "metadata": {},
   "outputs": [],
   "source": [
    "df['Month'] = df['FlightDate'].dt.month  # Extract the months."
   ]
  },
  {
   "cell_type": "code",
   "execution_count": 72,
   "id": "2461125d",
   "metadata": {},
   "outputs": [
    {
     "data": {
      "text/html": [
       "<style type=\"text/css\">\n",
       "#T_b833c_row0_col0, #T_b833c_row1_col4, #T_b833c_row6_col1, #T_b833c_row6_col2, #T_b833c_row6_col3 {\n",
       "  background-color: #08306b;\n",
       "  color: #f1f1f1;\n",
       "}\n",
       "#T_b833c_row0_col1, #T_b833c_row0_col2, #T_b833c_row0_col3, #T_b833c_row4_col4, #T_b833c_row6_col0 {\n",
       "  background-color: #f7fbff;\n",
       "  color: #000000;\n",
       "}\n",
       "#T_b833c_row0_col4 {\n",
       "  background-color: #dfecf7;\n",
       "  color: #000000;\n",
       "}\n",
       "#T_b833c_row1_col0 {\n",
       "  background-color: #3e8ec4;\n",
       "  color: #f1f1f1;\n",
       "}\n",
       "#T_b833c_row1_col1, #T_b833c_row6_col4 {\n",
       "  background-color: #cbdef1;\n",
       "  color: #000000;\n",
       "}\n",
       "#T_b833c_row1_col2, #T_b833c_row3_col2 {\n",
       "  background-color: #d2e3f3;\n",
       "  color: #000000;\n",
       "}\n",
       "#T_b833c_row1_col3 {\n",
       "  background-color: #d9e8f5;\n",
       "  color: #000000;\n",
       "}\n",
       "#T_b833c_row2_col0 {\n",
       "  background-color: #1561a9;\n",
       "  color: #f1f1f1;\n",
       "}\n",
       "#T_b833c_row2_col1 {\n",
       "  background-color: #a9cfe5;\n",
       "  color: #000000;\n",
       "}\n",
       "#T_b833c_row2_col2 {\n",
       "  background-color: #d8e7f5;\n",
       "  color: #000000;\n",
       "}\n",
       "#T_b833c_row2_col3, #T_b833c_row3_col4 {\n",
       "  background-color: #f4f9fe;\n",
       "  color: #000000;\n",
       "}\n",
       "#T_b833c_row2_col4 {\n",
       "  background-color: #d9e7f5;\n",
       "  color: #000000;\n",
       "}\n",
       "#T_b833c_row3_col0 {\n",
       "  background-color: #1966ad;\n",
       "  color: #f1f1f1;\n",
       "}\n",
       "#T_b833c_row3_col1 {\n",
       "  background-color: #8fc2de;\n",
       "  color: #000000;\n",
       "}\n",
       "#T_b833c_row3_col3 {\n",
       "  background-color: #ebf3fb;\n",
       "  color: #000000;\n",
       "}\n",
       "#T_b833c_row4_col0 {\n",
       "  background-color: #4e9acb;\n",
       "  color: #f1f1f1;\n",
       "}\n",
       "#T_b833c_row4_col1 {\n",
       "  background-color: #3787c0;\n",
       "  color: #f1f1f1;\n",
       "}\n",
       "#T_b833c_row4_col2 {\n",
       "  background-color: #9dcae1;\n",
       "  color: #000000;\n",
       "}\n",
       "#T_b833c_row4_col3 {\n",
       "  background-color: #c9ddf0;\n",
       "  color: #000000;\n",
       "}\n",
       "#T_b833c_row5_col0 {\n",
       "  background-color: #e9f2fa;\n",
       "  color: #000000;\n",
       "}\n",
       "#T_b833c_row5_col1 {\n",
       "  background-color: #08458a;\n",
       "  color: #f1f1f1;\n",
       "}\n",
       "#T_b833c_row5_col2 {\n",
       "  background-color: #084285;\n",
       "  color: #f1f1f1;\n",
       "}\n",
       "#T_b833c_row5_col3 {\n",
       "  background-color: #083e81;\n",
       "  color: #f1f1f1;\n",
       "}\n",
       "#T_b833c_row5_col4 {\n",
       "  background-color: #cddff1;\n",
       "  color: #000000;\n",
       "}\n",
       "#T_b833c_row7_col0 {\n",
       "  background-color: #e2edf8;\n",
       "  color: #000000;\n",
       "}\n",
       "#T_b833c_row7_col1, #T_b833c_row9_col1 {\n",
       "  background-color: #135fa7;\n",
       "  color: #f1f1f1;\n",
       "}\n",
       "#T_b833c_row7_col2 {\n",
       "  background-color: #08519c;\n",
       "  color: #f1f1f1;\n",
       "}\n",
       "#T_b833c_row7_col3 {\n",
       "  background-color: #125da6;\n",
       "  color: #f1f1f1;\n",
       "}\n",
       "#T_b833c_row7_col4 {\n",
       "  background-color: #6fb0d7;\n",
       "  color: #f1f1f1;\n",
       "}\n",
       "#T_b833c_row8_col0 {\n",
       "  background-color: #5ba3d0;\n",
       "  color: #f1f1f1;\n",
       "}\n",
       "#T_b833c_row8_col1 {\n",
       "  background-color: #4997c9;\n",
       "  color: #f1f1f1;\n",
       "}\n",
       "#T_b833c_row8_col2 {\n",
       "  background-color: #85bcdc;\n",
       "  color: #000000;\n",
       "}\n",
       "#T_b833c_row8_col3 {\n",
       "  background-color: #bfd8ed;\n",
       "  color: #000000;\n",
       "}\n",
       "#T_b833c_row8_col4 {\n",
       "  background-color: #d5e5f4;\n",
       "  color: #000000;\n",
       "}\n",
       "#T_b833c_row9_col0, #T_b833c_row10_col3 {\n",
       "  background-color: #bdd7ec;\n",
       "  color: #000000;\n",
       "}\n",
       "#T_b833c_row9_col2 {\n",
       "  background-color: #2a7ab9;\n",
       "  color: #f1f1f1;\n",
       "}\n",
       "#T_b833c_row9_col3 {\n",
       "  background-color: #64a9d3;\n",
       "  color: #f1f1f1;\n",
       "}\n",
       "#T_b833c_row9_col4 {\n",
       "  background-color: #b2d2e8;\n",
       "  color: #000000;\n",
       "}\n",
       "#T_b833c_row10_col0 {\n",
       "  background-color: #92c4de;\n",
       "  color: #000000;\n",
       "}\n",
       "#T_b833c_row10_col1 {\n",
       "  background-color: #08478d;\n",
       "  color: #f1f1f1;\n",
       "}\n",
       "#T_b833c_row10_col2 {\n",
       "  background-color: #4292c6;\n",
       "  color: #f1f1f1;\n",
       "}\n",
       "#T_b833c_row10_col4 {\n",
       "  background-color: #f2f7fd;\n",
       "  color: #000000;\n",
       "}\n",
       "#T_b833c_row11_col0 {\n",
       "  background-color: #e8f1fa;\n",
       "  color: #000000;\n",
       "}\n",
       "#T_b833c_row11_col1 {\n",
       "  background-color: #083471;\n",
       "  color: #f1f1f1;\n",
       "}\n",
       "#T_b833c_row11_col2 {\n",
       "  background-color: #083877;\n",
       "  color: #f1f1f1;\n",
       "}\n",
       "#T_b833c_row11_col3 {\n",
       "  background-color: #2b7bba;\n",
       "  color: #f1f1f1;\n",
       "}\n",
       "#T_b833c_row11_col4 {\n",
       "  background-color: #a3cce3;\n",
       "  color: #000000;\n",
       "}\n",
       "</style>\n",
       "<table id=\"T_b833c\">\n",
       "  <thead>\n",
       "    <tr>\n",
       "      <th class=\"index_name level0\" >DelayGroup</th>\n",
       "      <th id=\"T_b833c_level0_col0\" class=\"col_heading level0 col0\" >OnTime_Early</th>\n",
       "      <th id=\"T_b833c_level0_col1\" class=\"col_heading level0 col1\" >Small_Delay</th>\n",
       "      <th id=\"T_b833c_level0_col2\" class=\"col_heading level0 col2\" >Medium_Delay</th>\n",
       "      <th id=\"T_b833c_level0_col3\" class=\"col_heading level0 col3\" >Large_Delay</th>\n",
       "      <th id=\"T_b833c_level0_col4\" class=\"col_heading level0 col4\" >Cancelled</th>\n",
       "    </tr>\n",
       "    <tr>\n",
       "      <th class=\"index_name level0\" >Month</th>\n",
       "      <th class=\"blank col0\" >&nbsp;</th>\n",
       "      <th class=\"blank col1\" >&nbsp;</th>\n",
       "      <th class=\"blank col2\" >&nbsp;</th>\n",
       "      <th class=\"blank col3\" >&nbsp;</th>\n",
       "      <th class=\"blank col4\" >&nbsp;</th>\n",
       "    </tr>\n",
       "  </thead>\n",
       "  <tbody>\n",
       "    <tr>\n",
       "      <th id=\"T_b833c_level0_row0\" class=\"row_heading level0 row0\" >1</th>\n",
       "      <td id=\"T_b833c_row0_col0\" class=\"data row0 col0\" >81.567225</td>\n",
       "      <td id=\"T_b833c_row0_col1\" class=\"data row0 col1\" >9.223900</td>\n",
       "      <td id=\"T_b833c_row0_col2\" class=\"data row0 col2\" >4.365234</td>\n",
       "      <td id=\"T_b833c_row0_col3\" class=\"data row0 col3\" >3.748445</td>\n",
       "      <td id=\"T_b833c_row0_col4\" class=\"data row0 col4\" >1.095196</td>\n",
       "    </tr>\n",
       "    <tr>\n",
       "      <th id=\"T_b833c_level0_row1\" class=\"row_heading level0 row1\" >2</th>\n",
       "      <td id=\"T_b833c_row1_col0\" class=\"data row1 col0\" >71.984179</td>\n",
       "      <td id=\"T_b833c_row1_col1\" class=\"data row1 col1\" >11.465288</td>\n",
       "      <td id=\"T_b833c_row1_col2\" class=\"data row1 col2\" >5.820601</td>\n",
       "      <td id=\"T_b833c_row1_col3\" class=\"data row1 col3\" >4.961019</td>\n",
       "      <td id=\"T_b833c_row1_col4\" class=\"data row1 col4\" >5.768912</td>\n",
       "    </tr>\n",
       "    <tr>\n",
       "      <th id=\"T_b833c_level0_row2\" class=\"row_heading level0 row2\" >3</th>\n",
       "      <td id=\"T_b833c_row2_col0\" class=\"data row2 col0\" >76.596250</td>\n",
       "      <td id=\"T_b833c_row2_col1\" class=\"data row2 col1\" >12.648622</td>\n",
       "      <td id=\"T_b833c_row2_col2\" class=\"data row2 col2\" >5.586715</td>\n",
       "      <td id=\"T_b833c_row2_col3\" class=\"data row2 col3\" >3.904514</td>\n",
       "      <td id=\"T_b833c_row2_col4\" class=\"data row2 col4\" >1.263899</td>\n",
       "    </tr>\n",
       "    <tr>\n",
       "      <th id=\"T_b833c_level0_row3\" class=\"row_heading level0 row3\" >4</th>\n",
       "      <td id=\"T_b833c_row3_col0\" class=\"data row3 col0\" >75.990640</td>\n",
       "      <td id=\"T_b833c_row3_col1\" class=\"data row3 col1\" >13.377545</td>\n",
       "      <td id=\"T_b833c_row3_col2\" class=\"data row3 col2\" >5.842983</td>\n",
       "      <td id=\"T_b833c_row3_col3\" class=\"data row3 col3\" >4.248464</td>\n",
       "      <td id=\"T_b833c_row3_col4\" class=\"data row3 col4\" >0.540368</td>\n",
       "    </tr>\n",
       "    <tr>\n",
       "      <th id=\"T_b833c_level0_row4\" class=\"row_heading level0 row4\" >5</th>\n",
       "      <td id=\"T_b833c_row4_col0\" class=\"data row4 col0\" >70.696594</td>\n",
       "      <td id=\"T_b833c_row4_col1\" class=\"data row4 col1\" >15.897427</td>\n",
       "      <td id=\"T_b833c_row4_col2\" class=\"data row4 col2\" >7.280520</td>\n",
       "      <td id=\"T_b833c_row4_col3\" class=\"data row4 col3\" >5.673587</td>\n",
       "      <td id=\"T_b833c_row4_col4\" class=\"data row4 col4\" >0.451872</td>\n",
       "    </tr>\n",
       "    <tr>\n",
       "      <th id=\"T_b833c_level0_row5\" class=\"row_heading level0 row5\" >6</th>\n",
       "      <td id=\"T_b833c_row5_col0\" class=\"data row5 col0\" >56.978209</td>\n",
       "      <td id=\"T_b833c_row5_col1\" class=\"data row5 col1\" >18.452226</td>\n",
       "      <td id=\"T_b833c_row5_col2\" class=\"data row5 col2\" >11.608651</td>\n",
       "      <td id=\"T_b833c_row5_col3\" class=\"data row5 col3\" >11.358206</td>\n",
       "      <td id=\"T_b833c_row5_col4\" class=\"data row5 col4\" >1.602708</td>\n",
       "    </tr>\n",
       "    <tr>\n",
       "      <th id=\"T_b833c_level0_row6\" class=\"row_heading level0 row6\" >7</th>\n",
       "      <td id=\"T_b833c_row6_col0\" class=\"data row6 col0\" >55.117971</td>\n",
       "      <td id=\"T_b833c_row6_col1\" class=\"data row6 col1\" >19.270492</td>\n",
       "      <td id=\"T_b833c_row6_col2\" class=\"data row6 col2\" >12.124190</td>\n",
       "      <td id=\"T_b833c_row6_col3\" class=\"data row6 col3\" >11.831516</td>\n",
       "      <td id=\"T_b833c_row6_col4\" class=\"data row6 col4\" >1.655831</td>\n",
       "    </tr>\n",
       "    <tr>\n",
       "      <th id=\"T_b833c_level0_row7\" class=\"row_heading level0 row7\" >8</th>\n",
       "      <td id=\"T_b833c_row7_col0\" class=\"data row7 col0\" >57.923872</td>\n",
       "      <td id=\"T_b833c_row7_col1\" class=\"data row7 col1\" >17.456917</td>\n",
       "      <td id=\"T_b833c_row7_col2\" class=\"data row7 col2\" >11.135187</td>\n",
       "      <td id=\"T_b833c_row7_col3\" class=\"data row7 col3\" >10.420380</td>\n",
       "      <td id=\"T_b833c_row7_col4\" class=\"data row7 col4\" >3.063644</td>\n",
       "    </tr>\n",
       "    <tr>\n",
       "      <th id=\"T_b833c_level0_row8\" class=\"row_heading level0 row8\" >9</th>\n",
       "      <td id=\"T_b833c_row8_col0\" class=\"data row8 col0\" >69.675269</td>\n",
       "      <td id=\"T_b833c_row8_col1\" class=\"data row8 col1\" >15.289233</td>\n",
       "      <td id=\"T_b833c_row8_col2\" class=\"data row8 col2\" >7.738116</td>\n",
       "      <td id=\"T_b833c_row8_col3\" class=\"data row8 col3\" >5.928165</td>\n",
       "      <td id=\"T_b833c_row8_col4\" class=\"data row8 col4\" >1.369217</td>\n",
       "    </tr>\n",
       "    <tr>\n",
       "      <th id=\"T_b833c_level0_row9\" class=\"row_heading level0 row9\" >10</th>\n",
       "      <td id=\"T_b833c_row9_col0\" class=\"data row9 col0\" >62.539282</td>\n",
       "      <td id=\"T_b833c_row9_col1\" class=\"data row9 col1\" >17.451413</td>\n",
       "      <td id=\"T_b833c_row9_col2\" class=\"data row9 col2\" >9.922687</td>\n",
       "      <td id=\"T_b833c_row9_col3\" class=\"data row9 col3\" >7.967946</td>\n",
       "      <td id=\"T_b833c_row9_col4\" class=\"data row9 col4\" >2.118672</td>\n",
       "    </tr>\n",
       "    <tr>\n",
       "      <th id=\"T_b833c_level0_row10\" class=\"row_heading level0 row10\" >11</th>\n",
       "      <td id=\"T_b833c_row10_col0\" class=\"data row10 col0\" >65.789250</td>\n",
       "      <td id=\"T_b833c_row10_col1\" class=\"data row10 col1\" >18.387426</td>\n",
       "      <td id=\"T_b833c_row10_col2\" class=\"data row10 col2\" >9.207152</td>\n",
       "      <td id=\"T_b833c_row10_col3\" class=\"data row10 col3\" >5.999032</td>\n",
       "      <td id=\"T_b833c_row10_col4\" class=\"data row10 col4\" >0.617139</td>\n",
       "    </tr>\n",
       "    <tr>\n",
       "      <th id=\"T_b833c_level0_row11\" class=\"row_heading level0 row11\" >12</th>\n",
       "      <td id=\"T_b833c_row11_col0\" class=\"data row11 col0\" >57.168955</td>\n",
       "      <td id=\"T_b833c_row11_col1\" class=\"data row11 col1\" >19.082687</td>\n",
       "      <td id=\"T_b833c_row11_col2\" class=\"data row11 col2\" >11.860995</td>\n",
       "      <td id=\"T_b833c_row11_col3\" class=\"data row11 col3\" >9.513682</td>\n",
       "      <td id=\"T_b833c_row11_col4\" class=\"data row11 col4\" >2.373681</td>\n",
       "    </tr>\n",
       "  </tbody>\n",
       "</table>\n"
      ],
      "text/plain": [
       "<pandas.io.formats.style.Styler at 0x2a6458a5510>"
      ]
     },
     "execution_count": 72,
     "metadata": {},
     "output_type": "execute_result"
    }
   ],
   "source": [
    "df_agg = df.groupby('Month')['DelayGroup'].value_counts(normalize=True).unstack() * 100 # Grouping by month and unstacking the delay group\n",
    "col_order = ['OnTime_Early','Small_Delay','Medium_Delay','Large_Delay','Cancelled'] # resorting the columns.\n",
    "df_agg[col_order].style.background_gradient(cmap='Blues')"
   ]
  },
  {
   "cell_type": "code",
   "execution_count": 74,
   "id": "0ff13a37",
   "metadata": {},
   "outputs": [
    {
     "data": {
      "text/plain": [
       "<Axes: >"
      ]
     },
     "execution_count": 74,
     "metadata": {},
     "output_type": "execute_result"
    },
    {
     "data": {
      "image/png": "[encoded data removed]",
      "text/plain": [
       "<Figure size 2000x1000 with 1 Axes>"
      ]
     },
     "metadata": {},
     "output_type": "display_data"
    }
   ],
   "source": [
    "events = df.groupby('FlightDate')['Cancelled'].mean()\n",
    "fig, ax = plt.subplots(figsize=(20,10))\n",
    "calmap.yearplot(events, year=2021, monthly_border=True)"
   ]
  },
  {
   "cell_type": "code",
   "execution_count": 75,
   "id": "47b7ff8d",
   "metadata": {},
   "outputs": [
    {
     "data": {
      "text/plain": [
       "Text(0.4, 0.9, 'US Flight Cancellations')"
      ]
     },
     "execution_count": 75,
     "metadata": {},
     "output_type": "execute_result"
    },
    {
     "data": {
      "image/png": "[encoded data removed]",
      "text/plain": [
       "<Figure size 2400x1600 with 5 Axes>"
      ]
     },
     "metadata": {},
     "output_type": "display_data"
    }
   ],
   "source": [
    "fig, axs = plt.subplots(5, 1, figsize=(24,16))  # 5 rowa 1 column\n",
    "for i, year in enumerate([2021]): # -- for the full set  in case loaded. \n",
    "    calmap.yearplot(events.apply(np.log), year=year, monthly_border=True, ax=axs[i])\n",
    "    axs[i].set_title(year)\n",
    "fig.suptitle('US Flight Cancellations', x= 0.4, y=0.9, fontsize=20)"
   ]
  },
  {
   "cell_type": "code",
   "execution_count": 76,
   "id": "b19dc3d5",
   "metadata": {},
   "outputs": [
    {
     "data": {
      "application/vnd.plotly.v1+json": {
       "config": {
        "plotlyServerURL": "https://plot.ly"
       },
       "data": [
        {
         "colorscale": [
          [
           0,
           "rgb(247,252,245)"
          ],
          [
           0.125,
           "rgb(229,245,224)"
          ],
          [
           0.25,
           "rgb(199,233,192)"
          ],
          [
           0.375,
           "rgb(161,217,155)"
          ],
          [
           0.5,
           "rgb(116,196,118)"
          ],
          [
           0.625,
           "rgb(65,171,93)"
          ],
          [
           0.75,
           "rgb(35,139,69)"
          ],
          [
           0.875,
           "rgb(0,109,44)"
          ],
          [
           1,
           "rgb(0,68,27)"
          ]
         ],
         "customdata": [
          [
           "2021-01-01",
           "y"
          ],
          [
           "2021-01-02",
           "y"
          ],
          [
           "2021-01-03",
           "y"
          ],
          [
           "2021-01-04",
           "y"
          ],
          [
           "2021-01-05",
           "y"
          ],
          [
           "2021-01-06",
           "y"
          ],
          [
           "2021-01-07",
           "y"
          ],
          [
           "2021-01-08",
           "y"
          ],
          [
           "2021-01-09",
           "y"
          ],
          [
           "2021-01-10",
           "y"
          ],
          [
           "2021-01-11",
           "y"
          ],
          [
           "2021-01-12",
           "y"
          ],
          [
           "2021-01-13",
           "y"
          ],
          [
           "2021-01-14",
           "y"
          ],
          [
           "2021-01-15",
           "y"
          ],
          [
           "2021-01-16",
           "y"
          ],
          [
           "2021-01-17",
           "y"
          ],
          [
           "2021-01-18",
           "y"
          ],
          [
           "2021-01-19",
           "y"
          ],
          [
           "2021-01-20",
           "y"
          ],
          [
           "2021-01-21",
           "y"
          ],
          [
           "2021-01-22",
           "y"
          ],
          [
           "2021-01-23",
           "y"
          ],
          [
           "2021-01-24",
           "y"
          ],
          [
           "2021-01-25",
           "y"
          ],
          [
           "2021-01-26",
           "y"
          ],
          [
           "2021-01-27",
           "y"
          ],
          [
           "2021-01-28",
           "y"
          ],
          [
           "2021-01-29",
           "y"
          ],
          [
           "2021-01-30",
           "y"
          ],
          [
           "2021-01-31",
           "y"
          ],
          [
           "2021-02-01",
           "y"
          ],
          [
           "2021-02-02",
           "y"
          ],
          [
           "2021-02-03",
           "y"
          ],
          [
           "2021-02-04",
           "y"
          ],
          [
           "2021-02-05",
           "y"
          ],
          [
           "2021-02-06",
           "y"
          ],
          [
           "2021-02-07",
           "y"
          ],
          [
           "2021-02-08",
           "y"
          ],
          [
           "2021-02-09",
           "y"
          ],
          [
           "2021-02-10",
           "y"
          ],
          [
           "2021-02-11",
           "y"
          ],
          [
           "2021-02-12",
           "y"
          ],
          [
           "2021-02-13",
           "y"
          ],
          [
           "2021-02-14",
           "y"
          ],
          [
           "2021-02-15",
           "y"
          ],
          [
           "2021-02-16",
           "y"
          ],
          [
           "2021-02-17",
           "y"
          ],
          [
           "2021-02-18",
           "y"
          ],
          [
           "2021-02-19",
           "y"
          ],
          [
           "2021-02-20",
           "y"
          ],
          [
           "2021-02-21",
           "y"
          ],
          [
           "2021-02-22",
           "y"
          ],
          [
           "2021-02-23",
           "y"
          ],
          [
           "2021-02-24",
           "y"
          ],
          [
           "2021-02-25",
           "y"
          ],
          [
           "2021-02-26",
           "y"
          ],
          [
           "2021-02-27",
           "y"
          ],
          [
           "2021-02-28",
           "y"
          ],
          [
           "2021-03-01",
           "y"
          ],
          [
           "2021-03-02",
           "y"
          ],
          [
           "2021-03-03",
           "y"
          ],
          [
           "2021-03-04",
           "y"
          ],
          [
           "2021-03-05",
           "y"
          ],
          [
           "2021-03-06",
           "y"
          ],
          [
           "2021-03-07",
           "y"
          ],
          [
           "2021-03-08",
           "y"
          ],
          [
           "2021-03-09",
           "y"
          ],
          [
           "2021-03-10",
           "y"
          ],
          [
           "2021-03-11",
           "y"
          ],
          [
           "2021-03-12",
           "y"
          ],
          [
           "2021-03-13",
           "y"
          ],
          [
           "2021-03-14",
           "y"
          ],
          [
           "2021-03-15",
           "y"
          ],
          [
           "2021-03-16",
           "y"
          ],
          [
           "2021-03-17",
           "y"
          ],
          [
           "2021-03-18",
           "y"
          ],
          [
           "2021-03-19",
           "y"
          ],
          [
           "2021-03-20",
           "y"
          ],
          [
           "2021-03-21",
           "y"
          ],
          [
           "2021-03-22",
           "y"
          ],
          [
           "2021-03-23",
           "y"
          ],
          [
           "2021-03-24",
           "y"
          ],
          [
           "2021-03-25",
           "y"
          ],
          [
           "2021-03-26",
           "y"
          ],
          [
           "2021-03-27",
           "y"
          ],
          [
           "2021-03-28",
           "y"
          ],
          [
           "2021-03-29",
           "y"
          ],
          [
           "2021-03-30",
           "y"
          ],
          [
           "2021-03-31",
           "y"
          ],
          [
           "2021-04-01",
           "y"
          ],
          [
           "2021-04-02",
           "y"
          ],
          [
           "2021-04-03",
           "y"
          ],
          [
           "2021-04-04",
           "y"
          ],
          [
           "2021-04-05",
           "y"
          ],
          [
           "2021-04-06",
           "y"
          ],
          [
           "2021-04-07",
           "y"
          ],
          [
           "2021-04-08",
           "y"
          ],
          [
           "2021-04-09",
           "y"
          ],
          [
           "2021-04-10",
           "y"
          ],
          [
           "2021-04-11",
           "y"
          ],
          [
           "2021-04-12",
           "y"
          ],
          [
           "2021-04-13",
           "y"
          ],
          [
           "2021-04-14",
           "y"
          ],
          [
           "2021-04-15",
           "y"
          ],
          [
           "2021-04-16",
           "y"
          ],
          [
           "2021-04-17",
           "y"
          ],
          [
           "2021-04-18",
           "y"
          ],
          [
           "2021-04-19",
           "y"
          ],
          [
           "2021-04-20",
           "y"
          ],
          [
           "2021-04-21",
           "y"
          ],
          [
           "2021-04-22",
           "y"
          ],
          [
           "2021-04-23",
           "y"
          ],
          [
           "2021-04-24",
           "y"
          ],
          [
           "2021-04-25",
           "y"
          ],
          [
           "2021-04-26",
           "y"
          ],
          [
           "2021-04-27",
           "y"
          ],
          [
           "2021-04-28",
           "y"
          ],
          [
           "2021-04-29",
           "y"
          ],
          [
           "2021-04-30",
           "y"
          ],
          [
           "2021-05-01",
           "y"
          ],
          [
           "2021-05-02",
           "y"
          ],
          [
           "2021-05-03",
           "y"
          ],
          [
           "2021-05-04",
           "y"
          ],
          [
           "2021-05-05",
           "y"
          ],
          [
           "2021-05-06",
           "y"
          ],
          [
           "2021-05-07",
           "y"
          ],
          [
           "2021-05-08",
           "y"
          ],
          [
           "2021-05-09",
           "y"
          ],
          [
           "2021-05-10",
           "y"
          ],
          [
           "2021-05-11",
           "y"
          ],
          [
           "2021-05-12",
           "y"
          ],
          [
           "2021-05-13",
           "y"
          ],
          [
           "2021-05-14",
           "y"
          ],
          [
           "2021-05-15",
           "y"
          ],
          [
           "2021-05-16",
           "y"
          ],
          [
           "2021-05-17",
           "y"
          ],
          [
           "2021-05-18",
           "y"
          ],
          [
           "2021-05-19",
           "y"
          ],
          [
           "2021-05-20",
           "y"
          ],
          [
           "2021-05-21",
           "y"
          ],
          [
           "2021-05-22",
           "y"
          ],
          [
           "2021-05-23",
           "y"
          ],
          [
           "2021-05-24",
           "y"
          ],
          [
           "2021-05-25",
           "y"
          ],
          [
           "2021-05-26",
           "y"
          ],
          [
           "2021-05-27",
           "y"
          ],
          [
           "2021-05-28",
           "y"
          ],
          [
           "2021-05-29",
           "y"
          ],
          [
           "2021-05-30",
           "y"
          ],
          [
           "2021-05-31",
           "y"
          ],
          [
           "2021-06-01",
           "y"
          ],
          [
           "2021-06-02",
           "y"
          ],
          [
           "2021-06-03",
           "y"
          ],
          [
           "2021-06-04",
           "y"
          ],
          [
           "2021-06-05",
           "y"
          ],
          [
           "2021-06-06",
           "y"
          ],
          [
           "2021-06-07",
           "y"
          ],
          [
           "2021-06-08",
           "y"
          ],
          [
           "2021-06-09",
           "y"
          ],
          [
           "2021-06-10",
           "y"
          ],
          [
           "2021-06-11",
           "y"
          ],
          [
           "2021-06-12",
           "y"
          ],
          [
           "2021-06-13",
           "y"
          ],
          [
           "2021-06-14",
           "y"
          ],
          [
           "2021-06-15",
           "y"
          ],
          [
           "2021-06-16",
           "y"
          ],
          [
           "2021-06-17",
           "y"
          ],
          [
           "2021-06-18",
           "y"
          ],
          [
           "2021-06-19",
           "y"
          ],
          [
           "2021-06-20",
           "y"
          ],
          [
           "2021-06-21",
           "y"
          ],
          [
           "2021-06-22",
           "y"
          ],
          [
           "2021-06-23",
           "y"
          ],
          [
           "2021-06-24",
           "y"
          ],
          [
           "2021-06-25",
           "y"
          ],
          [
           "2021-06-26",
           "y"
          ],
          [
           "2021-06-27",
           "y"
          ],
          [
           "2021-06-28",
           "y"
          ],
          [
           "2021-06-29",
           "y"
          ],
          [
           "2021-06-30",
           "y"
          ],
          [
           "2021-07-01",
           "y"
          ],
          [
           "2021-07-02",
           "y"
          ],
          [
           "2021-07-03",
           "y"
          ],
          [
           "2021-07-04",
           "y"
          ],
          [
           "2021-07-05",
           "y"
          ],
          [
           "2021-07-06",
           "y"
          ],
          [
           "2021-07-07",
           "y"
          ],
          [
           "2021-07-08",
           "y"
          ],
          [
           "2021-07-09",
           "y"
          ],
          [
           "2021-07-10",
           "y"
          ],
          [
           "2021-07-11",
           "y"
          ],
          [
           "2021-07-12",
           "y"
          ],
          [
           "2021-07-13",
           "y"
          ],
          [
           "2021-07-14",
           "y"
          ],
          [
           "2021-07-15",
           "y"
          ],
          [
           "2021-07-16",
           "y"
          ],
          [
           "2021-07-17",
           "y"
          ],
          [
           "2021-07-18",
           "y"
          ],
          [
           "2021-07-19",
           "y"
          ],
          [
           "2021-07-20",
           "y"
          ],
          [
           "2021-07-21",
           "y"
          ],
          [
           "2021-07-22",
           "y"
          ],
          [
           "2021-07-23",
           "y"
          ],
          [
           "2021-07-24",
           "y"
          ],
          [
           "2021-07-25",
           "y"
          ],
          [
           "2021-07-26",
           "y"
          ],
          [
           "2021-07-27",
           "y"
          ],
          [
           "2021-07-28",
           "y"
          ],
          [
           "2021-07-29",
           "y"
          ],
          [
           "2021-07-30",
           "y"
          ],
          [
           "2021-07-31",
           "y"
          ],
          [
           "2021-08-01",
           "y"
          ],
          [
           "2021-08-02",
           "y"
          ],
          [
           "2021-08-03",
           "y"
          ],
          [
           "2021-08-04",
           "y"
          ],
          [
           "2021-08-05",
           "y"
          ],
          [
           "2021-08-06",
           "y"
          ],
          [
           "2021-08-07",
           "y"
          ],
          [
           "2021-08-08",
           "y"
          ],
          [
           "2021-08-09",
           "y"
          ],
          [
           "2021-08-10",
           "y"
          ],
          [
           "2021-08-11",
           "y"
          ],
          [
           "2021-08-12",
           "y"
          ],
          [
           "2021-08-13",
           "y"
          ],
          [
           "2021-08-14",
           "y"
          ],
          [
           "2021-08-15",
           "y"
          ],
          [
           "2021-08-16",
           "y"
          ],
          [
           "2021-08-17",
           "y"
          ],
          [
           "2021-08-18",
           "y"
          ],
          [
           "2021-08-19",
           "y"
          ],
          [
           "2021-08-20",
           "y"
          ],
          [
           "2021-08-21",
           "y"
          ],
          [
           "2021-08-22",
           "y"
          ],
          [
           "2021-08-23",
           "y"
          ],
          [
           "2021-08-24",
           "y"
          ],
          [
           "2021-08-25",
           "y"
          ],
          [
           "2021-08-26",
           "y"
          ],
          [
           "2021-08-27",
           "y"
          ],
          [
           "2021-08-28",
           "y"
          ],
          [
           "2021-08-29",
           "y"
          ],
          [
           "2021-08-30",
           "y"
          ],
          [
           "2021-08-31",
           "y"
          ],
          [
           "2021-09-01",
           "y"
          ],
          [
           "2021-09-02",
           "y"
          ],
          [
           "2021-09-03",
           "y"
          ],
          [
           "2021-09-04",
           "y"
          ],
          [
           "2021-09-05",
           "y"
          ],
          [
           "2021-09-06",
           "y"
          ],
          [
           "2021-09-07",
           "y"
          ],
          [
           "2021-09-08",
           "y"
          ],
          [
           "2021-09-09",
           "y"
          ],
          [
           "2021-09-10",
           "y"
          ],
          [
           "2021-09-11",
           "y"
          ],
          [
           "2021-09-12",
           "y"
          ],
          [
           "2021-09-13",
           "y"
          ],
          [
           "2021-09-14",
           "y"
          ],
          [
           "2021-09-15",
           "y"
          ],
          [
           "2021-09-16",
           "y"
          ],
          [
           "2021-09-17",
           "y"
          ],
          [
           "2021-09-18",
           "y"
          ],
          [
           "2021-09-19",
           "y"
          ],
          [
           "2021-09-20",
           "y"
          ],
          [
           "2021-09-21",
           "y"
          ],
          [
           "2021-09-22",
           "y"
          ],
          [
           "2021-09-23",
           "y"
          ],
          [
           "2021-09-24",
           "y"
          ],
          [
           "2021-09-25",
           "y"
          ],
          [
           "2021-09-26",
           "y"
          ],
          [
           "2021-09-27",
           "y"
          ],
          [
           "2021-09-28",
           "y"
          ],
          [
           "2021-09-29",
           "y"
          ],
          [
           "2021-09-30",
           "y"
          ],
          [
           "2021-10-01",
           "y"
          ],
          [
           "2021-10-02",
           "y"
          ],
          [
           "2021-10-03",
           "y"
          ],
          [
           "2021-10-04",
           "y"
          ],
          [
           "2021-10-05",
           "y"
          ],
          [
           "2021-10-06",
           "y"
          ],
          [
           "2021-10-07",
           "y"
          ],
          [
           "2021-10-08",
           "y"
          ],
          [
           "2021-10-09",
           "y"
          ],
          [
           "2021-10-10",
           "y"
          ],
          [
           "2021-10-11",
           "y"
          ],
          [
           "2021-10-12",
           "y"
          ],
          [
           "2021-10-13",
           "y"
          ],
          [
           "2021-10-14",
           "y"
          ],
          [
           "2021-10-15",
           "y"
          ],
          [
           "2021-10-16",
           "y"
          ],
          [
           "2021-10-17",
           "y"
          ],
          [
           "2021-10-18",
           "y"
          ],
          [
           "2021-10-19",
           "y"
          ],
          [
           "2021-10-20",
           "y"
          ],
          [
           "2021-10-21",
           "y"
          ],
          [
           "2021-10-22",
           "y"
          ],
          [
           "2021-10-23",
           "y"
          ],
          [
           "2021-10-24",
           "y"
          ],
          [
           "2021-10-25",
           "y"
          ],
          [
           "2021-10-26",
           "y"
          ],
          [
           "2021-10-27",
           "y"
          ],
          [
           "2021-10-28",
           "y"
          ],
          [
           "2021-10-29",
           "y"
          ],
          [
           "2021-10-30",
           "y"
          ],
          [
           "2021-10-31",
           "y"
          ],
          [
           "2021-11-01",
           "y"
          ],
          [
           "2021-11-02",
           "y"
          ],
          [
           "2021-11-03",
           "y"
          ],
          [
           "2021-11-04",
           "y"
          ],
          [
           "2021-11-05",
           "y"
          ],
          [
           "2021-11-06",
           "y"
          ],
          [
           "2021-11-07",
           "y"
          ],
          [
           "2021-11-08",
           "y"
          ],
          [
           "2021-11-09",
           "y"
          ],
          [
           "2021-11-10",
           "y"
          ],
          [
           "2021-11-11",
           "y"
          ],
          [
           "2021-11-12",
           "y"
          ],
          [
           "2021-11-13",
           "y"
          ],
          [
           "2021-11-14",
           "y"
          ],
          [
           "2021-11-15",
           "y"
          ],
          [
           "2021-11-16",
           "y"
          ],
          [
           "2021-11-17",
           "y"
          ],
          [
           "2021-11-18",
           "y"
          ],
          [
           "2021-11-19",
           "y"
          ],
          [
           "2021-11-20",
           "y"
          ],
          [
           "2021-11-21",
           "y"
          ],
          [
           "2021-11-22",
           "y"
          ],
          [
           "2021-11-23",
           "y"
          ],
          [
           "2021-11-24",
           "y"
          ],
          [
           "2021-11-25",
           "y"
          ],
          [
           "2021-11-26",
           "y"
          ],
          [
           "2021-11-27",
           "y"
          ],
          [
           "2021-11-28",
           "y"
          ],
          [
           "2021-11-29",
           "y"
          ],
          [
           "2021-11-30",
           "y"
          ],
          [
           "2021-12-01",
           "y"
          ],
          [
           "2021-12-02",
           "y"
          ],
          [
           "2021-12-03",
           "y"
          ],
          [
           "2021-12-04",
           "y"
          ],
          [
           "2021-12-05",
           "y"
          ],
          [
           "2021-12-06",
           "y"
          ],
          [
           "2021-12-07",
           "y"
          ],
          [
           "2021-12-08",
           "y"
          ],
          [
           "2021-12-09",
           "y"
          ],
          [
           "2021-12-10",
           "y"
          ],
          [
           "2021-12-11",
           "y"
          ],
          [
           "2021-12-12",
           "y"
          ],
          [
           "2021-12-13",
           "y"
          ],
          [
           "2021-12-14",
           "y"
          ],
          [
           "2021-12-15",
           "y"
          ],
          [
           "2021-12-16",
           "y"
          ],
          [
           "2021-12-17",
           "y"
          ],
          [
           "2021-12-18",
           "y"
          ],
          [
           "2021-12-19",
           "y"
          ],
          [
           "2021-12-20",
           "y"
          ],
          [
           "2021-12-21",
           "y"
          ],
          [
           "2021-12-22",
           "y"
          ],
          [
           "2021-12-23",
           "y"
          ],
          [
           "2021-12-24",
           "y"
          ],
          [
           "2021-12-25",
           "y"
          ],
          [
           "2021-12-26",
           "y"
          ],
          [
           "2021-12-27",
           "y"
          ],
          [
           "2021-12-28",
           "y"
          ],
          [
           "2021-12-29",
           "y"
          ],
          [
           "2021-12-30",
           "y"
          ],
          [
           "2021-12-31",
           "y"
          ]
         ],
         "hovertemplate": "%{customdata[0]} <br>Week=%{x} <br>%{customdata[1]}=%{z}",
         "name": "2021",
         "showscale": false,
         "type": "heatmap",
         "x": [
          0,
          0,
          0,
          1,
          1,
          1,
          1,
          1,
          1,
          1,
          2,
          2,
          2,
          2,
          2,
          2,
          2,
          3,
          3,
          3,
          3,
          3,
          3,
          3,
          4,
          4,
          4,
          4,
          4,
          4,
          4,
          5,
          5,
          5,
          5,
          5,
          5,
          5,
          6,
          6,
          6,
          6,
          6,
          6,
          6,
          7,
          7,
          7,
          7,
          7,
          7,
          7,
          8,
          8,
          8,
          8,
          8,
          8,
          8,
          9,
          9,
          9,
          9,
          9,
          9,
          9,
          10,
          10,
          10,
          10,
          10,
          10,
          10,
          11,
          11,
          11,
          11,
          11,
          11,
          11,
          12,
          12,
          12,
          12,
          12,
          12,
          12,
          13,
          13,
          13,
          13,
          13,
          13,
          13,
          14,
          14,
          14,
          14,
          14,
          14,
          14,
          15,
          15,
          15,
          15,
          15,
          15,
          15,
          16,
          16,
          16,
          16,
          16,
          16,
          16,
          17,
          17,
          17,
          17,
          17,
          17,
          17,
          18,
          18,
          18,
          18,
          18,
          18,
          18,
          19,
          19,
          19,
          19,
          19,
          19,
          19,
          20,
          20,
          20,
          20,
          20,
          20,
          20,
          21,
          21,
          21,
          21,
          21,
          21,
          21,
          22,
          22,
          22,
          22,
          22,
          22,
          22,
          23,
          23,
          23,
          23,
          23,
          23,
          23,
          24,
          24,
          24,
          24,
          24,
          24,
          24,
          25,
          25,
          25,
          25,
          25,
          25,
          25,
          26,
          26,
          26,
          26,
          26,
          26,
          26,
          27,
          27,
          27,
          27,
          27,
          27,
          27,
          28,
          28,
          28,
          28,
          28,
          28,
          28,
          29,
          29,
          29,
          29,
          29,
          29,
          29,
          30,
          30,
          30,
          30,
          30,
          30,
          30,
          31,
          31,
          31,
          31,
          31,
          31,
          31,
          32,
          32,
          32,
          32,
          32,
          32,
          32,
          33,
          33,
          33,
          33,
          33,
          33,
          33,
          34,
          34,
          34,
          34,
          34,
          34,
          34,
          35,
          35,
          35,
          35,
          35,
          35,
          35,
          36,
          36,
          36,
          36,
          36,
          36,
          36,
          37,
          37,
          37,
          37,
          37,
          37,
          37,
          38,
          38,
          38,
          38,
          38,
          38,
          38,
          39,
          39,
          39,
          39,
          39,
          39,
          39,
          40,
          40,
          40,
          40,
          40,
          40,
          40,
          41,
          41,
          41,
          41,
          41,
          41,
          41,
          42,
          42,
          42,
          42,
          42,
          42,
          42,
          43,
          43,
          43,
          43,
          43,
          43,
          43,
          44,
          44,
          44,
          44,
          44,
          44,
          44,
          45,
          45,
          45,
          45,
          45,
          45,
          45,
          46,
          46,
          46,
          46,
          46,
          46,
          46,
          47,
          47,
          47,
          47,
          47,
          47,
          47,
          48,
          48,
          48,
          48,
          48,
          48,
          48,
          49,
          49,
          49,
          49,
          49,
          49,
          49,
          50,
          50,
          50,
          50,
          50,
          50,
          50,
          51,
          51,
          51,
          51,
          51,
          51,
          51,
          52,
          52,
          52,
          52,
          52
         ],
         "xaxis": "x",
         "xgap": 1,
         "y": [
          4,
          5,
          6,
          0,
          1,
          2,
          3,
          4,
          5,
          6,
          0,
          1,
          2,
          3,
          4,
          5,
          6,
          0,
          1,
          2,
          3,
          4,
          5,
          6,
          0,
          1,
          2,
          3,
          4,
          5,
          6,
          0,
          1,
          2,
          3,
          4,
          5,
          6,
          0,
          1,
          2,
          3,
          4,
          5,
          6,
          0,
          1,
          2,
          3,
          4,
          5,
          6,
          0,
          1,
          2,
          3,
          4,
          5,
          6,
          0,
          1,
          2,
          3,
          4,
          5,
          6,
          0,
          1,
          2,
          3,
          4,
          5,
          6,
          0,
          1,
          2,
          3,
          4,
          5,
          6,
          0,
          1,
          2,
          3,
          4,
          5,
          6,
          0,
          1,
          2,
          3,
          4,
          5,
          6,
          0,
          1,
          2,
          3,
          4,
          5,
          6,
          0,
          1,
          2,
          3,
          4,
          5,
          6,
          0,
          1,
          2,
          3,
          4,
          5,
          6,
          0,
          1,
          2,
          3,
          4,
          5,
          6,
          0,
          1,
          2,
          3,
          4,
          5,
          6,
          0,
          1,
          2,
          3,
          4,
          5,
          6,
          0,
          1,
          2,
          3,
          4,
          5,
          6,
          0,
          1,
          2,
          3,
          4,
          5,
          6,
          0,
          1,
          2,
          3,
          4,
          5,
          6,
          0,
          1,
          2,
          3,
          4,
          5,
          6,
          0,
          1,
          2,
          3,
          4,
          5,
          6,
          0,
          1,
          2,
          3,
          4,
          5,
          6,
          0,
          1,
          2,
          3,
          4,
          5,
          6,
          0,
          1,
          2,
          3,
          4,
          5,
          6,
          0,
          1,
          2,
          3,
          4,
          5,
          6,
          0,
          1,
          2,
          3,
          4,
          5,
          6,
          0,
          1,
          2,
          3,
          4,
          5,
          6,
          0,
          1,
          2,
          3,
          4,
          5,
          6,
          0,
          1,
          2,
          3,
          4,
          5,
          6,
          0,
          1,
          2,
          3,
          4,
          5,
          6,
          0,
          1,
          2,
          3,
          4,
          5,
          6,
          0,
          1,
          2,
          3,
          4,
          5,
          6,
          0,
          1,
          2,
          3,
          4,
          5,
          6,
          0,
          1,
          2,
          3,
          4,
          5,
          6,
          0,
          1,
          2,
          3,
          4,
          5,
          6,
          0,
          1,
          2,
          3,
          4,
          5,
          6,
          0,
          1,
          2,
          3,
          4,
          5,
          6,
          0,
          1,
          2,
          3,
          4,
          5,
          6,
          0,
          1,
          2,
          3,
          4,
          5,
          6,
          0,
          1,
          2,
          3,
          4,
          5,
          6,
          0,
          1,
          2,
          3,
          4,
          5,
          6,
          0,
          1,
          2,
          3,
          4,
          5,
          6,
          0,
          1,
          2,
          3,
          4,
          5,
          6,
          0,
          1,
          2,
          3,
          4,
          5,
          6,
          0,
          1,
          2,
          3,
          4,
          5,
          6,
          0,
          1,
          2,
          3,
          4,
          5,
          6,
          0,
          1,
          2,
          3,
          4,
          5,
          6,
          0,
          1,
          2,
          3,
          4,
          5,
          6,
          0,
          1,
          2,
          3,
          4
         ],
         "yaxis": "y",
         "ygap": 1,
         "z": [
          0.03479550013081015,
          0.004842133191828071,
          0.004220758457504636,
          0.012876990850559133,
          0.003158171769453461,
          0.0013346383130171723,
          0.001782393056416615,
          0.01177194737247057,
          0.0027470011903671823,
          0.03490321597317482,
          0.0033196332595637054,
          0.0022017997319548153,
          0.004034906634137187,
          0.005495356037151703,
          0.006427915518824609,
          0.0024923843810578787,
          0.001708150317227916,
          0.0017438173747622067,
          0.002670991128493752,
          0.0027281279397930384,
          0.0030995738086013174,
          0.006076923076923077,
          0.004062788550323176,
          0.0061180789232181095,
          0.02276319949415112,
          0.014802631578947368,
          0.005839691061505134,
          0.024201054917778467,
          0.007309941520467836,
          0.023101090371465533,
          0.06992847359610409,
          0.11474896216808961,
          0.04771505376344086,
          0.01002435825370058,
          0.03044315992292871,
          0.00899390243902439,
          0.005948567767914341,
          0.021559268098647572,
          0.004912280701754386,
          0.005246589716684155,
          0.010640249495505412,
          0.02268913693733129,
          0.01741417300447793,
          0.08731171815164666,
          0.1711718630010751,
          0.2611231101511879,
          0.22894245308191763,
          0.19729611862189272,
          0.20484708597807272,
          0.07760040088767986,
          0.015955189680047527,
          0.01291565577279863,
          0.008012236870857309,
          0.002697841726618705,
          0.0014900517135594707,
          0.0039826212889210715,
          0.002292427824342718,
          0.0046102621019380174,
          0.013148492210947549,
          0.004294969789619276,
          0.0032410651716888576,
          0.002205819971154662,
          0.0026172740084558083,
          0.004497354497354497,
          0.0023813067420747134,
          0.003373432626821972,
          0.003190606853423521,
          0.0025589330024813894,
          0.0019332292363744515,
          0.0017793594306049821,
          0.002134016218523261,
          0.0549022243128822,
          0.09779218396428353,
          0.0787048414843942,
          0.012344808126410835,
          0.034060414229684165,
          0.020776546126355322,
          0.0022371364653243847,
          0.0019915029208709507,
          0.002608431907794965,
          0.011595971925541654,
          0.0032163333799468605,
          0.004647030684070252,
          0.002717719531344365,
          0.0019296870288850027,
          0.0022483798439359875,
          0.0044398491667680335,
          0.0035370167093547993,
          0.0019456604822458482,
          0.0015675049410481838,
          0.0026499638641291254,
          0.0014857957922263165,
          0.002421782955884278,
          0.009431146660299648,
          0.00253942006732416,
          0.0004861448711716091,
          0.001291901815462025,
          0.0014745782706146041,
          0.0023559901048415596,
          0.004633255024797703,
          0.05904233335301411,
          0.01612614226841068,
          0.0019508670520231213,
          0.0017145306472353193,
          0.0039445374133397085,
          0.0034109269343546166,
          0.0013422818791946308,
          0.0008400840084008401,
          0.006021194605009634,
          0.0010168506682161533,
          0.0012110849896701575,
          0.0006565988181221273,
          0.012981574539363484,
          0.005989635910895753,
          0.0019192706771426857,
          0.0004813188135491246,
          0.0022535620820005814,
          0.0014990363337854236,
          0.0009580838323353293,
          0.0035904419957905162,
          0.0018311291963377416,
          0.001328341987682647,
          0.005391652026413037,
          0.00996118069288801,
          0.0014614795740830956,
          0.0014491913512260158,
          0.0012058570198105081,
          0.001011825713020932,
          0.0012423061720029363,
          0.014613778705636743,
          0.03653086339788846,
          0.0043765064061905366,
          0.00117864960431049,
          0.0005611987204669173,
          0.0006298419096806701,
          0.009895979758223221,
          0.00432705816240517,
          0.005435126082285281,
          0.0010530227948463825,
          0.0005005561735261402,
          0.0009436580627255065,
          0.000994777418552599,
          0.0008918120506103339,
          0.008517034068136272,
          0.004570784546991422,
          0.0023787740164684353,
          0.0011602850986242334,
          0.002626970227670753,
          0.0009314456035767511,
          0.0023973804233422993,
          0.012913907284768211,
          0.0027687492476224872,
          0.0015371881281778408,
          0.0034189860569474864,
          0.005352039490776825,
          0.0072094055013309675,
          0.0112837119870465,
          0.03188156831042845,
          0.016560091818330874,
          0.01432082932563856,
          0.01146938980834046,
          0.00695730517042895,
          0.013687513525210993,
          0.014099454214675561,
          0.012750088192309631,
          0.036550573289551594,
          0.025019794140934283,
          0.011012664564248886,
          0.016134654648672874,
          0.013273860705073087,
          0.014899914714292882,
          0.03914680050188206,
          0.014332492350636106,
          0.00688893563315103,
          0.019193282351177086,
          0.022263173622870804,
          0.03582571274878967,
          0.01698492462311558,
          0.021373969020317844,
          0.015964308750806278,
          0.014449952536652252,
          0.03636720090182816,
          0.03886770313875037,
          0.01898972510624563,
          0.008730203145111646,
          0.00980829246544806,
          0.026140039653553167,
          0.022660706027439494,
          0.017009803921568627,
          0.01981409001956947,
          0.009910384818133895,
          0.013920999557282699,
          0.020756661268953334,
          0.013776548557115274,
          0.015436689060977485,
          0.012616913484021823,
          0.00811073336571151,
          0.035245515870940755,
          0.021017645046189942,
          0.018127771551094,
          0.006897267022766167,
          0.010806953152877606,
          0.010020917449044122,
          0.00980154301518754,
          0.01612565445026178,
          0.01379850271566277,
          0.018148112010927895,
          0.008521693946479605,
          0.004240102171136654,
          0.01497107859816264,
          0.009704968944099378,
          0.02233758061978921,
          0.05180257300787556,
          0.05730030235053155,
          0.04942528735632184,
          0.03220173591495044,
          0.028649121103233952,
          0.031169712540598186,
          0.020634837079538875,
          0.020837409508902366,
          0.049605301627521685,
          0.03347126918443245,
          0.0440639621574374,
          0.017433108337784685,
          0.02597654356886692,
          0.051532839038754795,
          0.039741581832419735,
          0.020421124627485465,
          0.040668676349684844,
          0.03688675765400221,
          0.022081094284318516,
          0.020522113924670616,
          0.01646180860403863,
          0.04351489319522228,
          0.010490744943763555,
          0.02696800960803581,
          0.026700437971610997,
          0.015052292053562701,
          0.016829745596868884,
          0.01146965206892767,
          0.030855331583378734,
          0.0345488475311444,
          0.021239421239421238,
          0.05058078141499472,
          0.04151386240281649,
          0.02497687326549491,
          0.017315527387958354,
          0.015266324938711833,
          0.012341197822141561,
          0.028075091061922106,
          0.013978918888450481,
          0.013203474069983434,
          0.012580515297906603,
          0.012294604358466379,
          0.0057928672174088255,
          0.01651338854732991,
          0.02348993288590604,
          0.004064361672512666,
          0.005304908279623203,
          0.002639179364605119,
          0.004314868804664723,
          0.003583694191428998,
          0.0024918633034987795,
          0.0027369141293191925,
          0.004286589099816289,
          0.032959952418715306,
          0.011186794610450952,
          0.007760532150776054,
          0.003732271709380443,
          0.002085346625298815,
          0.010513084218946407,
          0.0036239964317573595,
          0.01837816416505672,
          0.011812789712405921,
          0.007202248506850919,
          0.006936473875941913,
          0.004762148599518665,
          0.0034143287998634267,
          0.002600708277999115,
          0.0028677379480840544,
          0.026891005082153255,
          0.05937201595236758,
          0.07492552135054617,
          0.04635794494683494,
          0.008892304314414316,
          0.029772049424797616,
          0.011099106178175031,
          0.005268340718857706,
          0.007928029238122013,
          0.005861606477571904,
          0.003587622701679207,
          0.0025330396475770926,
          0.001921537229783827,
          0.044578786985156785,
          0.04524396254312469,
          0.013792715194505433,
          0.015088346237839985,
          0.031287365484256674,
          0.013217314682233727,
          0.009611790462967907,
          0.025543852741411556,
          0.020502939578084085,
          0.036662817551963045,
          0.07312860920718874,
          0.034178665736634944,
          0.009624426129763814,
          0.005562029876046191,
          0.004728247623689983,
          0.0063015973816618635,
          0.008083140877598153,
          0.0065832784726793945,
          0.009177953068412958,
          0.002963211450296321,
          0.008141917394586433,
          0.006480754124116261,
          0.008660991092958023,
          0.0072121068810593525,
          0.00716990658924514,
          0.006442979630272092,
          0.005027652086475616,
          0.0027771843623157445,
          0.003031488362996284,
          0.00432521747582252,
          0.005271042556733063,
          0.004479114242576749,
          0.005393688879927412,
          0.002597275311182985,
          0.002715578847070033,
          0.003220991436876424,
          0.0019053472649047326,
          0.0015427490793271624,
          0.003187848670948385,
          0.0039855760106282025,
          0.003027930044374837,
          0.007236593400658854,
          0.006025911419102139,
          0.004427450191185349,
          0.004197335604355496,
          0.006781054145689921,
          0.00818610434692503,
          0.008111839834311357,
          0.008757829388614823,
          0.005401549123522218,
          0.020445622801203284,
          0.012481554353172651,
          0.005530573215485605,
          0.003940478042204594,
          0.01433093525179856,
          0.028309788374560278,
          0.012380615493455961,
          0.007313432835820896,
          0.02283407972576989,
          0.018095825622044006,
          0.008749874283415468,
          0.006168397244782564,
          0.005227895645112172,
          0.01083086053412463,
          0.03640283338466276,
          0.04995172191824911,
          0.07699019658163528,
          0.07241133306155728,
          0.06232012976819633,
          0.051598574453798875,
          0.07133031028684975,
          0.09083060985385706
         ],
         "zmax": 0.2611231101511879,
         "zmin": 0.0004813188135491246
        },
        {
         "hoverinfo": "skip",
         "line": {
          "color": "#9e9e9e",
          "width": 1
         },
         "mode": "lines",
         "type": "scatter",
         "x": [
          -0.5,
          -0.5
         ],
         "xaxis": "x",
         "y": [
          3.5,
          6.5
         ],
         "yaxis": "y"
        },
        {
         "hoverinfo": "skip",
         "line": {
          "color": "#9e9e9e",
          "width": 1
         },
         "mode": "lines",
         "type": "scatter",
         "x": [
          -0.5,
          0.5
         ],
         "xaxis": "x",
         "y": [
          3.5,
          3.5
         ],
         "yaxis": "y"
        },
        {
         "hoverinfo": "skip",
         "line": {
          "color": "#9e9e9e",
          "width": 1
         },
         "mode": "lines",
         "type": "scatter",
         "x": [
          0.5,
          0.5
         ],
         "xaxis": "x",
         "y": [
          3.5,
          -0.5
         ],
         "yaxis": "y"
        },
        {
         "hoverinfo": "skip",
         "line": {
          "color": "#9e9e9e",
          "width": 1
         },
         "mode": "lines",
         "type": "scatter",
         "x": [
          4.5,
          4.5
         ],
         "xaxis": "x",
         "y": [
          -0.5,
          6.5
         ],
         "yaxis": "y"
        },
        {
         "hoverinfo": "skip",
         "line": {
          "color": "#9e9e9e",
          "width": 1
         },
         "mode": "lines",
         "type": "scatter",
         "x": [
          8.5,
          8.5
         ],
         "xaxis": "x",
         "y": [
          -0.5,
          6.5
         ],
         "yaxis": "y"
        },
        {
         "hoverinfo": "skip",
         "line": {
          "color": "#9e9e9e",
          "width": 1
         },
         "mode": "lines",
         "type": "scatter",
         "x": [
          12.5,
          12.5
         ],
         "xaxis": "x",
         "y": [
          2.5,
          6.5
         ],
         "yaxis": "y"
        },
        {
         "hoverinfo": "skip",
         "line": {
          "color": "#9e9e9e",
          "width": 1
         },
         "mode": "lines",
         "type": "scatter",
         "x": [
          12.5,
          13.5
         ],
         "xaxis": "x",
         "y": [
          2.5,
          2.5
         ],
         "yaxis": "y"
        },
        {
         "hoverinfo": "skip",
         "line": {
          "color": "#9e9e9e",
          "width": 1
         },
         "mode": "lines",
         "type": "scatter",
         "x": [
          13.5,
          13.5
         ],
         "xaxis": "x",
         "y": [
          2.5,
          -0.5
         ],
         "yaxis": "y"
        },
        {
         "hoverinfo": "skip",
         "line": {
          "color": "#9e9e9e",
          "width": 1
         },
         "mode": "lines",
         "type": "scatter",
         "x": [
          16.5,
          16.5
         ],
         "xaxis": "x",
         "y": [
          4.5,
          6.5
         ],
         "yaxis": "y"
        },
        {
         "hoverinfo": "skip",
         "line": {
          "color": "#9e9e9e",
          "width": 1
         },
         "mode": "lines",
         "type": "scatter",
         "x": [
          16.5,
          17.5
         ],
         "xaxis": "x",
         "y": [
          4.5,
          4.5
         ],
         "yaxis": "y"
        },
        {
         "hoverinfo": "skip",
         "line": {
          "color": "#9e9e9e",
          "width": 1
         },
         "mode": "lines",
         "type": "scatter",
         "x": [
          17.5,
          17.5
         ],
         "xaxis": "x",
         "y": [
          4.5,
          -0.5
         ],
         "yaxis": "y"
        },
        {
         "hoverinfo": "skip",
         "line": {
          "color": "#9e9e9e",
          "width": 1
         },
         "mode": "lines",
         "type": "scatter",
         "x": [
          21.5,
          21.5
         ],
         "xaxis": "x",
         "y": [
          0.5,
          6.5
         ],
         "yaxis": "y"
        },
        {
         "hoverinfo": "skip",
         "line": {
          "color": "#9e9e9e",
          "width": 1
         },
         "mode": "lines",
         "type": "scatter",
         "x": [
          21.5,
          22.5
         ],
         "xaxis": "x",
         "y": [
          0.5,
          0.5
         ],
         "yaxis": "y"
        },
        {
         "hoverinfo": "skip",
         "line": {
          "color": "#9e9e9e",
          "width": 1
         },
         "mode": "lines",
         "type": "scatter",
         "x": [
          22.5,
          22.5
         ],
         "xaxis": "x",
         "y": [
          0.5,
          -0.5
         ],
         "yaxis": "y"
        },
        {
         "hoverinfo": "skip",
         "line": {
          "color": "#9e9e9e",
          "width": 1
         },
         "mode": "lines",
         "type": "scatter",
         "x": [
          25.5,
          25.5
         ],
         "xaxis": "x",
         "y": [
          2.5,
          6.5
         ],
         "yaxis": "y"
        },
        {
         "hoverinfo": "skip",
         "line": {
          "color": "#9e9e9e",
          "width": 1
         },
         "mode": "lines",
         "type": "scatter",
         "x": [
          25.5,
          26.5
         ],
         "xaxis": "x",
         "y": [
          2.5,
          2.5
         ],
         "yaxis": "y"
        },
        {
         "hoverinfo": "skip",
         "line": {
          "color": "#9e9e9e",
          "width": 1
         },
         "mode": "lines",
         "type": "scatter",
         "x": [
          26.5,
          26.5
         ],
         "xaxis": "x",
         "y": [
          2.5,
          -0.5
         ],
         "yaxis": "y"
        },
        {
         "hoverinfo": "skip",
         "line": {
          "color": "#9e9e9e",
          "width": 1
         },
         "mode": "lines",
         "type": "scatter",
         "x": [
          29.5,
          29.5
         ],
         "xaxis": "x",
         "y": [
          5.5,
          6.5
         ],
         "yaxis": "y"
        },
        {
         "hoverinfo": "skip",
         "line": {
          "color": "#9e9e9e",
          "width": 1
         },
         "mode": "lines",
         "type": "scatter",
         "x": [
          29.5,
          30.5
         ],
         "xaxis": "x",
         "y": [
          5.5,
          5.5
         ],
         "yaxis": "y"
        },
        {
         "hoverinfo": "skip",
         "line": {
          "color": "#9e9e9e",
          "width": 1
         },
         "mode": "lines",
         "type": "scatter",
         "x": [
          30.5,
          30.5
         ],
         "xaxis": "x",
         "y": [
          5.5,
          -0.5
         ],
         "yaxis": "y"
        },
        {
         "hoverinfo": "skip",
         "line": {
          "color": "#9e9e9e",
          "width": 1
         },
         "mode": "lines",
         "type": "scatter",
         "x": [
          34.5,
          34.5
         ],
         "xaxis": "x",
         "y": [
          1.5,
          6.5
         ],
         "yaxis": "y"
        },
        {
         "hoverinfo": "skip",
         "line": {
          "color": "#9e9e9e",
          "width": 1
         },
         "mode": "lines",
         "type": "scatter",
         "x": [
          34.5,
          35.5
         ],
         "xaxis": "x",
         "y": [
          1.5,
          1.5
         ],
         "yaxis": "y"
        },
        {
         "hoverinfo": "skip",
         "line": {
          "color": "#9e9e9e",
          "width": 1
         },
         "mode": "lines",
         "type": "scatter",
         "x": [
          35.5,
          35.5
         ],
         "xaxis": "x",
         "y": [
          1.5,
          -0.5
         ],
         "yaxis": "y"
        },
        {
         "hoverinfo": "skip",
         "line": {
          "color": "#9e9e9e",
          "width": 1
         },
         "mode": "lines",
         "type": "scatter",
         "x": [
          38.5,
          38.5
         ],
         "xaxis": "x",
         "y": [
          3.5,
          6.5
         ],
         "yaxis": "y"
        },
        {
         "hoverinfo": "skip",
         "line": {
          "color": "#9e9e9e",
          "width": 1
         },
         "mode": "lines",
         "type": "scatter",
         "x": [
          38.5,
          39.5
         ],
         "xaxis": "x",
         "y": [
          3.5,
          3.5
         ],
         "yaxis": "y"
        },
        {
         "hoverinfo": "skip",
         "line": {
          "color": "#9e9e9e",
          "width": 1
         },
         "mode": "lines",
         "type": "scatter",
         "x": [
          39.5,
          39.5
         ],
         "xaxis": "x",
         "y": [
          3.5,
          -0.5
         ],
         "yaxis": "y"
        },
        {
         "hoverinfo": "skip",
         "line": {
          "color": "#9e9e9e",
          "width": 1
         },
         "mode": "lines",
         "type": "scatter",
         "x": [
          43.5,
          43.5
         ],
         "xaxis": "x",
         "y": [
          -0.5,
          6.5
         ],
         "yaxis": "y"
        },
        {
         "hoverinfo": "skip",
         "line": {
          "color": "#9e9e9e",
          "width": 1
         },
         "mode": "lines",
         "type": "scatter",
         "x": [
          47.5,
          47.5
         ],
         "xaxis": "x",
         "y": [
          1.5,
          6.5
         ],
         "yaxis": "y"
        },
        {
         "hoverinfo": "skip",
         "line": {
          "color": "#9e9e9e",
          "width": 1
         },
         "mode": "lines",
         "type": "scatter",
         "x": [
          47.5,
          48.5
         ],
         "xaxis": "x",
         "y": [
          1.5,
          1.5
         ],
         "yaxis": "y"
        },
        {
         "hoverinfo": "skip",
         "line": {
          "color": "#9e9e9e",
          "width": 1
         },
         "mode": "lines",
         "type": "scatter",
         "x": [
          48.5,
          48.5
         ],
         "xaxis": "x",
         "y": [
          1.5,
          -0.5
         ],
         "yaxis": "y"
        }
       ],
       "layout": {
        "font": {
         "color": "#fff",
         "size": 10
        },
        "height": 150,
        "margin": {
         "b": 20,
         "t": 20
        },
        "paper_bgcolor": "#333",
        "plot_bgcolor": "#333",
        "showlegend": false,
        "template": {
         "data": {
          "bar": [
           {
            "error_x": {
             "color": "#2a3f5f"
            },
            "error_y": {
             "color": "#2a3f5f"
            },
            "marker": {
             "line": {
              "color": "#E5ECF6",
              "width": 0.5
             },
             "pattern": {
              "fillmode": "overlay",
              "size": 10,
              "solidity": 0.2
             }
            },
            "type": "bar"
           }
          ],
          "barpolar": [
           {
            "marker": {
             "line": {
              "color": "#E5ECF6",
              "width": 0.5
             },
             "pattern": {
              "fillmode": "overlay",
              "size": 10,
              "solidity": 0.2
             }
            },
            "type": "barpolar"
           }
          ],
          "carpet": [
           {
            "aaxis": {
             "endlinecolor": "#2a3f5f",
             "gridcolor": "white",
             "linecolor": "white",
             "minorgridcolor": "white",
             "startlinecolor": "#2a3f5f"
            },
            "baxis": {
             "endlinecolor": "#2a3f5f",
             "gridcolor": "white",
             "linecolor": "white",
             "minorgridcolor": "white",
             "startlinecolor": "#2a3f5f"
            },
            "type": "carpet"
           }
          ],
          "choropleth": [
           {
            "colorbar": {
             "outlinewidth": 0,
             "ticks": ""
            },
            "type": "choropleth"
           }
          ],
          "contour": [
           {
            "colorbar": {
             "outlinewidth": 0,
             "ticks": ""
            },
            "colorscale": [
             [
              0,
              "#0d0887"
             ],
             [
              0.1111111111111111,
              "#46039f"
             ],
             [
              0.2222222222222222,
              "#7201a8"
             ],
             [
              0.3333333333333333,
              "#9c179e"
             ],
             [
              0.4444444444444444,
              "#bd3786"
             ],
             [
              0.5555555555555556,
              "#d8576b"
             ],
             [
              0.6666666666666666,
              "#ed7953"
             ],
             [
              0.7777777777777778,
              "#fb9f3a"
             ],
             [
              0.8888888888888888,
              "#fdca26"
             ],
             [
              1,
              "#f0f921"
             ]
            ],
            "type": "contour"
           }
          ],
          "contourcarpet": [
           {
            "colorbar": {
             "outlinewidth": 0,
             "ticks": ""
            },
            "type": "contourcarpet"
           }
          ],
          "heatmap": [
           {
            "colorbar": {
             "outlinewidth": 0,
             "ticks": ""
            },
            "colorscale": [
             [
              0,
              "#0d0887"
             ],
             [
              0.1111111111111111,
              "#46039f"
             ],
             [
              0.2222222222222222,
              "#7201a8"
             ],
             [
              0.3333333333333333,
              "#9c179e"
             ],
             [
              0.4444444444444444,
              "#bd3786"
             ],
             [
              0.5555555555555556,
              "#d8576b"
             ],
             [
              0.6666666666666666,
              "#ed7953"
             ],
             [
              0.7777777777777778,
              "#fb9f3a"
             ],
             [
              0.8888888888888888,
              "#fdca26"
             ],
             [
              1,
              "#f0f921"
             ]
            ],
            "type": "heatmap"
           }
          ],
          "heatmapgl": [
           {
            "colorbar": {
             "outlinewidth": 0,
             "ticks": ""
            },
            "colorscale": [
             [
              0,
              "#0d0887"
             ],
             [
              0.1111111111111111,
              "#46039f"
             ],
             [
              0.2222222222222222,
              "#7201a8"
             ],
             [
              0.3333333333333333,
              "#9c179e"
             ],
             [
              0.4444444444444444,
              "#bd3786"
             ],
             [
              0.5555555555555556,
              "#d8576b"
             ],
             [
              0.6666666666666666,
              "#ed7953"
             ],
             [
              0.7777777777777778,
              "#fb9f3a"
             ],
             [
              0.8888888888888888,
              "#fdca26"
             ],
             [
              1,
              "#f0f921"
             ]
            ],
            "type": "heatmapgl"
           }
          ],
          "histogram": [
           {
            "marker": {
             "pattern": {
              "fillmode": "overlay",
              "size": 10,
              "solidity": 0.2
             }
            },
            "type": "histogram"
           }
          ],
          "histogram2d": [
           {
            "colorbar": {
             "outlinewidth": 0,
             "ticks": ""
            },
            "colorscale": [
             [
              0,
              "#0d0887"
             ],
             [
              0.1111111111111111,
              "#46039f"
             ],
             [
              0.2222222222222222,
              "#7201a8"
             ],
             [
              0.3333333333333333,
              "#9c179e"
             ],
             [
              0.4444444444444444,
              "#bd3786"
             ],
             [
              0.5555555555555556,
              "#d8576b"
             ],
             [
              0.6666666666666666,
              "#ed7953"
             ],
             [
              0.7777777777777778,
              "#fb9f3a"
             ],
             [
              0.8888888888888888,
              "#fdca26"
             ],
             [
              1,
              "#f0f921"
             ]
            ],
            "type": "histogram2d"
           }
          ],
          "histogram2dcontour": [
           {
            "colorbar": {
             "outlinewidth": 0,
             "ticks": ""
            },
            "colorscale": [
             [
              0,
              "#0d0887"
             ],
             [
              0.1111111111111111,
              "#46039f"
             ],
             [
              0.2222222222222222,
              "#7201a8"
             ],
             [
              0.3333333333333333,
              "#9c179e"
             ],
             [
              0.4444444444444444,
              "#bd3786"
             ],
             [
              0.5555555555555556,
              "#d8576b"
             ],
             [
              0.6666666666666666,
              "#ed7953"
             ],
             [
              0.7777777777777778,
              "#fb9f3a"
             ],
             [
              0.8888888888888888,
              "#fdca26"
             ],
             [
              1,
              "#f0f921"
             ]
            ],
            "type": "histogram2dcontour"
           }
          ],
          "mesh3d": [
           {
            "colorbar": {
             "outlinewidth": 0,
             "ticks": ""
            },
            "type": "mesh3d"
           }
          ],
          "parcoords": [
           {
            "line": {
             "colorbar": {
              "outlinewidth": 0,
              "ticks": ""
             }
            },
            "type": "parcoords"
           }
          ],
          "pie": [
           {
            "automargin": true,
            "type": "pie"
           }
          ],
          "scatter": [
           {
            "fillpattern": {
             "fillmode": "overlay",
             "size": 10,
             "solidity": 0.2
            },
            "type": "scatter"
           }
          ],
          "scatter3d": [
           {
            "line": {
             "colorbar": {
              "outlinewidth": 0,
              "ticks": ""
             }
            },
            "marker": {
             "colorbar": {
              "outlinewidth": 0,
              "ticks": ""
             }
            },
            "type": "scatter3d"
           }
          ],
          "scattercarpet": [
           {
            "marker": {
             "colorbar": {
              "outlinewidth": 0,
              "ticks": ""
             }
            },
            "type": "scattercarpet"
           }
          ],
          "scattergeo": [
           {
            "marker": {
             "colorbar": {
              "outlinewidth": 0,
              "ticks": ""
             }
            },
            "type": "scattergeo"
           }
          ],
          "scattergl": [
           {
            "marker": {
             "colorbar": {
              "outlinewidth": 0,
              "ticks": ""
             }
            },
            "type": "scattergl"
           }
          ],
          "scattermapbox": [
           {
            "marker": {
             "colorbar": {
              "outlinewidth": 0,
              "ticks": ""
             }
            },
            "type": "scattermapbox"
           }
          ],
          "scatterpolar": [
           {
            "marker": {
             "colorbar": {
              "outlinewidth": 0,
              "ticks": ""
             }
            },
            "type": "scatterpolar"
           }
          ],
          "scatterpolargl": [
           {
            "marker": {
             "colorbar": {
              "outlinewidth": 0,
              "ticks": ""
             }
            },
            "type": "scatterpolargl"
           }
          ],
          "scatterternary": [
           {
            "marker": {
             "colorbar": {
              "outlinewidth": 0,
              "ticks": ""
             }
            },
            "type": "scatterternary"
           }
          ],
          "surface": [
           {
            "colorbar": {
             "outlinewidth": 0,
             "ticks": ""
            },
            "colorscale": [
             [
              0,
              "#0d0887"
             ],
             [
              0.1111111111111111,
              "#46039f"
             ],
             [
              0.2222222222222222,
              "#7201a8"
             ],
             [
              0.3333333333333333,
              "#9c179e"
             ],
             [
              0.4444444444444444,
              "#bd3786"
             ],
             [
              0.5555555555555556,
              "#d8576b"
             ],
             [
              0.6666666666666666,
              "#ed7953"
             ],
             [
              0.7777777777777778,
              "#fb9f3a"
             ],
             [
              0.8888888888888888,
              "#fdca26"
             ],
             [
              1,
              "#f0f921"
             ]
            ],
            "type": "surface"
           }
          ],
          "table": [
           {
            "cells": {
             "fill": {
              "color": "#EBF0F8"
             },
             "line": {
              "color": "white"
             }
            },
            "header": {
             "fill": {
              "color": "#C8D4E3"
             },
             "line": {
              "color": "white"
             }
            },
            "type": "table"
           }
          ]
         },
         "layout": {
          "annotationdefaults": {
           "arrowcolor": "#2a3f5f",
           "arrowhead": 0,
           "arrowwidth": 1
          },
          "autotypenumbers": "strict",
          "coloraxis": {
           "colorbar": {
            "outlinewidth": 0,
            "ticks": ""
           }
          },
          "colorscale": {
           "diverging": [
            [
             0,
             "#8e0152"
            ],
            [
             0.1,
             "#c51b7d"
            ],
            [
             0.2,
             "#de77ae"
            ],
            [
             0.3,
             "#f1b6da"
            ],
            [
             0.4,
             "#fde0ef"
            ],
            [
             0.5,
             "#f7f7f7"
            ],
            [
             0.6,
             "#e6f5d0"
            ],
            [
             0.7,
             "#b8e186"
            ],
            [
             0.8,
             "#7fbc41"
            ],
            [
             0.9,
             "#4d9221"
            ],
            [
             1,
             "#276419"
            ]
           ],
           "sequential": [
            [
             0,
             "#0d0887"
            ],
            [
             0.1111111111111111,
             "#46039f"
            ],
            [
             0.2222222222222222,
             "#7201a8"
            ],
            [
             0.3333333333333333,
             "#9c179e"
            ],
            [
             0.4444444444444444,
             "#bd3786"
            ],
            [
             0.5555555555555556,
             "#d8576b"
            ],
            [
             0.6666666666666666,
             "#ed7953"
            ],
            [
             0.7777777777777778,
             "#fb9f3a"
            ],
            [
             0.8888888888888888,
             "#fdca26"
            ],
            [
             1,
             "#f0f921"
            ]
           ],
           "sequentialminus": [
            [
             0,
             "#0d0887"
            ],
            [
             0.1111111111111111,
             "#46039f"
            ],
            [
             0.2222222222222222,
             "#7201a8"
            ],
            [
             0.3333333333333333,
             "#9c179e"
            ],
            [
             0.4444444444444444,
             "#bd3786"
            ],
            [
             0.5555555555555556,
             "#d8576b"
            ],
            [
             0.6666666666666666,
             "#ed7953"
            ],
            [
             0.7777777777777778,
             "#fb9f3a"
            ],
            [
             0.8888888888888888,
             "#fdca26"
            ],
            [
             1,
             "#f0f921"
            ]
           ]
          },
          "colorway": [
           "#636efa",
           "#EF553B",
           "#00cc96",
           "#ab63fa",
           "#FFA15A",
           "#19d3f3",
           "#FF6692",
           "#B6E880",
           "#FF97FF",
           "#FECB52"
          ],
          "font": {
           "color": "#2a3f5f"
          },
          "geo": {
           "bgcolor": "white",
           "lakecolor": "white",
           "landcolor": "#E5ECF6",
           "showlakes": true,
           "showland": true,
           "subunitcolor": "white"
          },
          "hoverlabel": {
           "align": "left"
          },
          "hovermode": "closest",
          "mapbox": {
           "style": "light"
          },
          "paper_bgcolor": "white",
          "plot_bgcolor": "#E5ECF6",
          "polar": {
           "angularaxis": {
            "gridcolor": "white",
            "linecolor": "white",
            "ticks": ""
           },
           "bgcolor": "#E5ECF6",
           "radialaxis": {
            "gridcolor": "white",
            "linecolor": "white",
            "ticks": ""
           }
          },
          "scene": {
           "xaxis": {
            "backgroundcolor": "#E5ECF6",
            "gridcolor": "white",
            "gridwidth": 2,
            "linecolor": "white",
            "showbackground": true,
            "ticks": "",
            "zerolinecolor": "white"
           },
           "yaxis": {
            "backgroundcolor": "#E5ECF6",
            "gridcolor": "white",
            "gridwidth": 2,
            "linecolor": "white",
            "showbackground": true,
            "ticks": "",
            "zerolinecolor": "white"
           },
           "zaxis": {
            "backgroundcolor": "#E5ECF6",
            "gridcolor": "white",
            "gridwidth": 2,
            "linecolor": "white",
            "showbackground": true,
            "ticks": "",
            "zerolinecolor": "white"
           }
          },
          "shapedefaults": {
           "line": {
            "color": "#2a3f5f"
           }
          },
          "ternary": {
           "aaxis": {
            "gridcolor": "white",
            "linecolor": "white",
            "ticks": ""
           },
           "baxis": {
            "gridcolor": "white",
            "linecolor": "white",
            "ticks": ""
           },
           "bgcolor": "#E5ECF6",
           "caxis": {
            "gridcolor": "white",
            "linecolor": "white",
            "ticks": ""
           }
          },
          "title": {
           "x": 0.05
          },
          "xaxis": {
           "automargin": true,
           "gridcolor": "white",
           "linecolor": "white",
           "ticks": "",
           "title": {
            "standoff": 15
           },
           "zerolinecolor": "white",
           "zerolinewidth": 2
          },
          "yaxis": {
           "automargin": true,
           "gridcolor": "white",
           "linecolor": "white",
           "ticks": "",
           "title": {
            "standoff": 15
           },
           "zerolinecolor": "white",
           "zerolinewidth": 2
          }
         }
        },
        "title": {
         "text": "US Flight Cancellations"
        },
        "xaxis": {
         "anchor": "y",
         "domain": [
          0,
          1
         ],
         "showgrid": false,
         "showline": false,
         "tickmode": "array",
         "ticktext": [
          "January",
          "February",
          "March",
          "April",
          "May",
          "June",
          "July",
          "August",
          "September",
          "October",
          "November",
          "December"
         ],
         "tickvals": [
          1.5,
          5.909090909090909,
          10.318181818181818,
          14.727272727272727,
          19.136363636363637,
          23.545454545454547,
          27.954545454545453,
          32.36363636363636,
          36.77272727272727,
          41.18181818181818,
          45.59090909090909,
          50
         ],
         "zeroline": false
        },
        "yaxis": {
         "anchor": "x",
         "autorange": "reversed",
         "domain": [
          0,
          1
         ],
         "showgrid": false,
         "showline": false,
         "tickmode": "array",
         "ticktext": [
          "Mon",
          "Tue",
          "Wed",
          "Thu",
          "Fri",
          "Sat",
          "Sun"
         ],
         "tickvals": [
          0,
          1,
          2,
          3,
          4,
          5,
          6
         ],
         "zeroline": false
        }
       }
      },
      "text/html": [
       "<div>                            <div id=\"a76b4174-7819-44d8-84ed-b100bf3f4c09\" class=\"plotly-graph-div\" style=\"height:150px; width:100%;\"></div>            <script type=\"text/javascript\">                require([\"plotly\"], function(Plotly) {                    window.PLOTLYENV=window.PLOTLYENV || {};                                    if (document.getElementById(\"a76b4174-7819-44d8-84ed-b100bf3f4c09\")) {                    Plotly.newPlot(                        \"a76b4174-7819-44d8-84ed-b100bf3f4c09\",                        [{\"colorscale\":[[0.0,\"rgb(247,252,245)\"],[0.125,\"rgb(229,245,224)\"],[0.25,\"rgb(199,233,192)\"],[0.375,\"rgb(161,217,155)\"],[0.5,\"rgb(116,196,118)\"],[0.625,\"rgb(65,171,93)\"],[0.75,\"rgb(35,139,69)\"],[0.875,\"rgb(0,109,44)\"],[1.0,\"rgb(0,68,27)\"]],\"customdata\":[[\"2021-01-01\",\"y\"],[\"2021-01-02\",\"y\"],[\"2021-01-03\",\"y\"],[\"2021-01-04\",\"y\"],[\"2021-01-05\",\"y\"],[\"2021-01-06\",\"y\"],[\"2021-01-07\",\"y\"],[\"2021-01-08\",\"y\"],[\"2021-01-09\",\"y\"],[\"2021-01-10\",\"y\"],[\"2021-01-11\",\"y\"],[\"2021-01-12\",\"y\"],[\"2021-01-13\",\"y\"],[\"2021-01-14\",\"y\"],[\"2021-01-15\",\"y\"],[\"2021-01-16\",\"y\"],[\"2021-01-17\",\"y\"],[\"2021-01-18\",\"y\"],[\"2021-01-19\",\"y\"],[\"2021-01-20\",\"y\"],[\"2021-01-21\",\"y\"],[\"2021-01-22\",\"y\"],[\"2021-01-23\",\"y\"],[\"2021-01-24\",\"y\"],[\"2021-01-25\",\"y\"],[\"2021-01-26\",\"y\"],[\"2021-01-27\",\"y\"],[\"2021-01-28\",\"y\"],[\"2021-01-29\",\"y\"],[\"2021-01-30\",\"y\"],[\"2021-01-31\",\"y\"],[\"2021-02-01\",\"y\"],[\"2021-02-02\",\"y\"],[\"2021-02-03\",\"y\"],[\"2021-02-04\",\"y\"],[\"2021-02-05\",\"y\"],[\"2021-02-06\",\"y\"],[\"2021-02-07\",\"y\"],[\"2021-02-08\",\"y\"],[\"2021-02-09\",\"y\"],[\"2021-02-10\",\"y\"],[\"2021-02-11\",\"y\"],[\"2021-02-12\",\"y\"],[\"2021-02-13\",\"y\"],[\"2021-02-14\",\"y\"],[\"2021-02-15\",\"y\"],[\"2021-02-16\",\"y\"],[\"2021-02-17\",\"y\"],[\"2021-02-18\",\"y\"],[\"2021-02-19\",\"y\"],[\"2021-02-20\",\"y\"],[\"2021-02-21\",\"y\"],[\"2021-02-22\",\"y\"],[\"2021-02-23\",\"y\"],[\"2021-02-24\",\"y\"],[\"2021-02-25\",\"y\"],[\"2021-02-26\",\"y\"],[\"2021-02-27\",\"y\"],[\"2021-02-28\",\"y\"],[\"2021-03-01\",\"y\"],[\"2021-03-02\",\"y\"],[\"2021-03-03\",\"y\"],[\"2021-03-04\",\"y\"],[\"2021-03-05\",\"y\"],[\"2021-03-06\",\"y\"],[\"2021-03-07\",\"y\"],[\"2021-03-08\",\"y\"],[\"2021-03-09\",\"y\"],[\"2021-03-10\",\"y\"],[\"2021-03-11\",\"y\"],[\"2021-03-12\",\"y\"],[\"2021-03-13\",\"y\"],[\"2021-03-14\",\"y\"],[\"2021-03-15\",\"y\"],[\"2021-03-16\",\"y\"],[\"2021-03-17\",\"y\"],[\"2021-03-18\",\"y\"],[\"2021-03-19\",\"y\"],[\"2021-03-20\",\"y\"],[\"2021-03-21\",\"y\"],[\"2021-03-22\",\"y\"],[\"2021-03-23\",\"y\"],[\"2021-03-24\",\"y\"],[\"2021-03-25\",\"y\"],[\"2021-03-26\",\"y\"],[\"2021-03-27\",\"y\"],[\"2021-03-28\",\"y\"],[\"2021-03-29\",\"y\"],[\"2021-03-30\",\"y\"],[\"2021-03-31\",\"y\"],[\"2021-04-01\",\"y\"],[\"2021-04-02\",\"y\"],[\"2021-04-03\",\"y\"],[\"2021-04-04\",\"y\"],[\"2021-04-05\",\"y\"],[\"2021-04-06\",\"y\"],[\"2021-04-07\",\"y\"],[\"2021-04-08\",\"y\"],[\"2021-04-09\",\"y\"],[\"2021-04-10\",\"y\"],[\"2021-04-11\",\"y\"],[\"2021-04-12\",\"y\"],[\"2021-04-13\",\"y\"],[\"2021-04-14\",\"y\"],[\"2021-04-15\",\"y\"],[\"2021-04-16\",\"y\"],[\"2021-04-17\",\"y\"],[\"2021-04-18\",\"y\"],[\"2021-04-19\",\"y\"],[\"2021-04-20\",\"y\"],[\"2021-04-21\",\"y\"],[\"2021-04-22\",\"y\"],[\"2021-04-23\",\"y\"],[\"2021-04-24\",\"y\"],[\"2021-04-25\",\"y\"],[\"2021-04-26\",\"y\"],[\"2021-04-27\",\"y\"],[\"2021-04-28\",\"y\"],[\"2021-04-29\",\"y\"],[\"2021-04-30\",\"y\"],[\"2021-05-01\",\"y\"],[\"2021-05-02\",\"y\"],[\"2021-05-03\",\"y\"],[\"2021-05-04\",\"y\"],[\"2021-05-05\",\"y\"],[\"2021-05-06\",\"y\"],[\"2021-05-07\",\"y\"],[\"2021-05-08\",\"y\"],[\"2021-05-09\",\"y\"],[\"2021-05-10\",\"y\"],[\"2021-05-11\",\"y\"],[\"2021-05-12\",\"y\"],[\"2021-05-13\",\"y\"],[\"2021-05-14\",\"y\"],[\"2021-05-15\",\"y\"],[\"2021-05-16\",\"y\"],[\"2021-05-17\",\"y\"],[\"2021-05-18\",\"y\"],[\"2021-05-19\",\"y\"],[\"2021-05-20\",\"y\"],[\"2021-05-21\",\"y\"],[\"2021-05-22\",\"y\"],[\"2021-05-23\",\"y\"],[\"2021-05-24\",\"y\"],[\"2021-05-25\",\"y\"],[\"2021-05-26\",\"y\"],[\"2021-05-27\",\"y\"],[\"2021-05-28\",\"y\"],[\"2021-05-29\",\"y\"],[\"2021-05-30\",\"y\"],[\"2021-05-31\",\"y\"],[\"2021-06-01\",\"y\"],[\"2021-06-02\",\"y\"],[\"2021-06-03\",\"y\"],[\"2021-06-04\",\"y\"],[\"2021-06-05\",\"y\"],[\"2021-06-06\",\"y\"],[\"2021-06-07\",\"y\"],[\"2021-06-08\",\"y\"],[\"2021-06-09\",\"y\"],[\"2021-06-10\",\"y\"],[\"2021-06-11\",\"y\"],[\"2021-06-12\",\"y\"],[\"2021-06-13\",\"y\"],[\"2021-06-14\",\"y\"],[\"2021-06-15\",\"y\"],[\"2021-06-16\",\"y\"],[\"2021-06-17\",\"y\"],[\"2021-06-18\",\"y\"],[\"2021-06-19\",\"y\"],[\"2021-06-20\",\"y\"],[\"2021-06-21\",\"y\"],[\"2021-06-22\",\"y\"],[\"2021-06-23\",\"y\"],[\"2021-06-24\",\"y\"],[\"2021-06-25\",\"y\"],[\"2021-06-26\",\"y\"],[\"2021-06-27\",\"y\"],[\"2021-06-28\",\"y\"],[\"2021-06-29\",\"y\"],[\"2021-06-30\",\"y\"],[\"2021-07-01\",\"y\"],[\"2021-07-02\",\"y\"],[\"2021-07-03\",\"y\"],[\"2021-07-04\",\"y\"],[\"2021-07-05\",\"y\"],[\"2021-07-06\",\"y\"],[\"2021-07-07\",\"y\"],[\"2021-07-08\",\"y\"],[\"2021-07-09\",\"y\"],[\"2021-07-10\",\"y\"],[\"2021-07-11\",\"y\"],[\"2021-07-12\",\"y\"],[\"2021-07-13\",\"y\"],[\"2021-07-14\",\"y\"],[\"2021-07-15\",\"y\"],[\"2021-07-16\",\"y\"],[\"2021-07-17\",\"y\"],[\"2021-07-18\",\"y\"],[\"2021-07-19\",\"y\"],[\"2021-07-20\",\"y\"],[\"2021-07-21\",\"y\"],[\"2021-07-22\",\"y\"],[\"2021-07-23\",\"y\"],[\"2021-07-24\",\"y\"],[\"2021-07-25\",\"y\"],[\"2021-07-26\",\"y\"],[\"2021-07-27\",\"y\"],[\"2021-07-28\",\"y\"],[\"2021-07-29\",\"y\"],[\"2021-07-30\",\"y\"],[\"2021-07-31\",\"y\"],[\"2021-08-01\",\"y\"],[\"2021-08-02\",\"y\"],[\"2021-08-03\",\"y\"],[\"2021-08-04\",\"y\"],[\"2021-08-05\",\"y\"],[\"2021-08-06\",\"y\"],[\"2021-08-07\",\"y\"],[\"2021-08-08\",\"y\"],[\"2021-08-09\",\"y\"],[\"2021-08-10\",\"y\"],[\"2021-08-11\",\"y\"],[\"2021-08-12\",\"y\"],[\"2021-08-13\",\"y\"],[\"2021-08-14\",\"y\"],[\"2021-08-15\",\"y\"],[\"2021-08-16\",\"y\"],[\"2021-08-17\",\"y\"],[\"2021-08-18\",\"y\"],[\"2021-08-19\",\"y\"],[\"2021-08-20\",\"y\"],[\"2021-08-21\",\"y\"],[\"2021-08-22\",\"y\"],[\"2021-08-23\",\"y\"],[\"2021-08-24\",\"y\"],[\"2021-08-25\",\"y\"],[\"2021-08-26\",\"y\"],[\"2021-08-27\",\"y\"],[\"2021-08-28\",\"y\"],[\"2021-08-29\",\"y\"],[\"2021-08-30\",\"y\"],[\"2021-08-31\",\"y\"],[\"2021-09-01\",\"y\"],[\"2021-09-02\",\"y\"],[\"2021-09-03\",\"y\"],[\"2021-09-04\",\"y\"],[\"2021-09-05\",\"y\"],[\"2021-09-06\",\"y\"],[\"2021-09-07\",\"y\"],[\"2021-09-08\",\"y\"],[\"2021-09-09\",\"y\"],[\"2021-09-10\",\"y\"],[\"2021-09-11\",\"y\"],[\"2021-09-12\",\"y\"],[\"2021-09-13\",\"y\"],[\"2021-09-14\",\"y\"],[\"2021-09-15\",\"y\"],[\"2021-09-16\",\"y\"],[\"2021-09-17\",\"y\"],[\"2021-09-18\",\"y\"],[\"2021-09-19\",\"y\"],[\"2021-09-20\",\"y\"],[\"2021-09-21\",\"y\"],[\"2021-09-22\",\"y\"],[\"2021-09-23\",\"y\"],[\"2021-09-24\",\"y\"],[\"2021-09-25\",\"y\"],[\"2021-09-26\",\"y\"],[\"2021-09-27\",\"y\"],[\"2021-09-28\",\"y\"],[\"2021-09-29\",\"y\"],[\"2021-09-30\",\"y\"],[\"2021-10-01\",\"y\"],[\"2021-10-02\",\"y\"],[\"2021-10-03\",\"y\"],[\"2021-10-04\",\"y\"],[\"2021-10-05\",\"y\"],[\"2021-10-06\",\"y\"],[\"2021-10-07\",\"y\"],[\"2021-10-08\",\"y\"],[\"2021-10-09\",\"y\"],[\"2021-10-10\",\"y\"],[\"2021-10-11\",\"y\"],[\"2021-10-12\",\"y\"],[\"2021-10-13\",\"y\"],[\"2021-10-14\",\"y\"],[\"2021-10-15\",\"y\"],[\"2021-10-16\",\"y\"],[\"2021-10-17\",\"y\"],[\"2021-10-18\",\"y\"],[\"2021-10-19\",\"y\"],[\"2021-10-20\",\"y\"],[\"2021-10-21\",\"y\"],[\"2021-10-22\",\"y\"],[\"2021-10-23\",\"y\"],[\"2021-10-24\",\"y\"],[\"2021-10-25\",\"y\"],[\"2021-10-26\",\"y\"],[\"2021-10-27\",\"y\"],[\"2021-10-28\",\"y\"],[\"2021-10-29\",\"y\"],[\"2021-10-30\",\"y\"],[\"2021-10-31\",\"y\"],[\"2021-11-01\",\"y\"],[\"2021-11-02\",\"y\"],[\"2021-11-03\",\"y\"],[\"2021-11-04\",\"y\"],[\"2021-11-05\",\"y\"],[\"2021-11-06\",\"y\"],[\"2021-11-07\",\"y\"],[\"2021-11-08\",\"y\"],[\"2021-11-09\",\"y\"],[\"2021-11-10\",\"y\"],[\"2021-11-11\",\"y\"],[\"2021-11-12\",\"y\"],[\"2021-11-13\",\"y\"],[\"2021-11-14\",\"y\"],[\"2021-11-15\",\"y\"],[\"2021-11-16\",\"y\"],[\"2021-11-17\",\"y\"],[\"2021-11-18\",\"y\"],[\"2021-11-19\",\"y\"],[\"2021-11-20\",\"y\"],[\"2021-11-21\",\"y\"],[\"2021-11-22\",\"y\"],[\"2021-11-23\",\"y\"],[\"2021-11-24\",\"y\"],[\"2021-11-25\",\"y\"],[\"2021-11-26\",\"y\"],[\"2021-11-27\",\"y\"],[\"2021-11-28\",\"y\"],[\"2021-11-29\",\"y\"],[\"2021-11-30\",\"y\"],[\"2021-12-01\",\"y\"],[\"2021-12-02\",\"y\"],[\"2021-12-03\",\"y\"],[\"2021-12-04\",\"y\"],[\"2021-12-05\",\"y\"],[\"2021-12-06\",\"y\"],[\"2021-12-07\",\"y\"],[\"2021-12-08\",\"y\"],[\"2021-12-09\",\"y\"],[\"2021-12-10\",\"y\"],[\"2021-12-11\",\"y\"],[\"2021-12-12\",\"y\"],[\"2021-12-13\",\"y\"],[\"2021-12-14\",\"y\"],[\"2021-12-15\",\"y\"],[\"2021-12-16\",\"y\"],[\"2021-12-17\",\"y\"],[\"2021-12-18\",\"y\"],[\"2021-12-19\",\"y\"],[\"2021-12-20\",\"y\"],[\"2021-12-21\",\"y\"],[\"2021-12-22\",\"y\"],[\"2021-12-23\",\"y\"],[\"2021-12-24\",\"y\"],[\"2021-12-25\",\"y\"],[\"2021-12-26\",\"y\"],[\"2021-12-27\",\"y\"],[\"2021-12-28\",\"y\"],[\"2021-12-29\",\"y\"],[\"2021-12-30\",\"y\"],[\"2021-12-31\",\"y\"]],\"hovertemplate\":\"%{customdata[0]} <br>Week=%{x} <br>%{customdata[1]}=%{z}\",\"name\":\"2021\",\"showscale\":false,\"x\":[0,0,0,1,1,1,1,1,1,1,2,2,2,2,2,2,2,3,3,3,3,3,3,3,4,4,4,4,4,4,4,5,5,5,5,5,5,5,6,6,6,6,6,6,6,7,7,7,7,7,7,7,8,8,8,8,8,8,8,9,9,9,9,9,9,9,10,10,10,10,10,10,10,11,11,11,11,11,11,11,12,12,12,12,12,12,12,13,13,13,13,13,13,13,14,14,14,14,14,14,14,15,15,15,15,15,15,15,16,16,16,16,16,16,16,17,17,17,17,17,17,17,18,18,18,18,18,18,18,19,19,19,19,19,19,19,20,20,20,20,20,20,20,21,21,21,21,21,21,21,22,22,22,22,22,22,22,23,23,23,23,23,23,23,24,24,24,24,24,24,24,25,25,25,25,25,25,25,26,26,26,26,26,26,26,27,27,27,27,27,27,27,28,28,28,28,28,28,28,29,29,29,29,29,29,29,30,30,30,30,30,30,30,31,31,31,31,31,31,31,32,32,32,32,32,32,32,33,33,33,33,33,33,33,34,34,34,34,34,34,34,35,35,35,35,35,35,35,36,36,36,36,36,36,36,37,37,37,37,37,37,37,38,38,38,38,38,38,38,39,39,39,39,39,39,39,40,40,40,40,40,40,40,41,41,41,41,41,41,41,42,42,42,42,42,42,42,43,43,43,43,43,43,43,44,44,44,44,44,44,44,45,45,45,45,45,45,45,46,46,46,46,46,46,46,47,47,47,47,47,47,47,48,48,48,48,48,48,48,49,49,49,49,49,49,49,50,50,50,50,50,50,50,51,51,51,51,51,51,51,52,52,52,52,52],\"xgap\":1,\"y\":[4,5,6,0,1,2,3,4,5,6,0,1,2,3,4,5,6,0,1,2,3,4,5,6,0,1,2,3,4,5,6,0,1,2,3,4,5,6,0,1,2,3,4,5,6,0,1,2,3,4,5,6,0,1,2,3,4,5,6,0,1,2,3,4,5,6,0,1,2,3,4,5,6,0,1,2,3,4,5,6,0,1,2,3,4,5,6,0,1,2,3,4,5,6,0,1,2,3,4,5,6,0,1,2,3,4,5,6,0,1,2,3,4,5,6,0,1,2,3,4,5,6,0,1,2,3,4,5,6,0,1,2,3,4,5,6,0,1,2,3,4,5,6,0,1,2,3,4,5,6,0,1,2,3,4,5,6,0,1,2,3,4,5,6,0,1,2,3,4,5,6,0,1,2,3,4,5,6,0,1,2,3,4,5,6,0,1,2,3,4,5,6,0,1,2,3,4,5,6,0,1,2,3,4,5,6,0,1,2,3,4,5,6,0,1,2,3,4,5,6,0,1,2,3,4,5,6,0,1,2,3,4,5,6,0,1,2,3,4,5,6,0,1,2,3,4,5,6,0,1,2,3,4,5,6,0,1,2,3,4,5,6,0,1,2,3,4,5,6,0,1,2,3,4,5,6,0,1,2,3,4,5,6,0,1,2,3,4,5,6,0,1,2,3,4,5,6,0,1,2,3,4,5,6,0,1,2,3,4,5,6,0,1,2,3,4,5,6,0,1,2,3,4,5,6,0,1,2,3,4,5,6,0,1,2,3,4,5,6,0,1,2,3,4,5,6,0,1,2,3,4,5,6,0,1,2,3,4,5,6,0,1,2,3,4],\"ygap\":1,\"z\":[0.03479550013081015,0.004842133191828071,0.004220758457504636,0.012876990850559133,0.003158171769453461,0.0013346383130171723,0.001782393056416615,0.01177194737247057,0.0027470011903671823,0.03490321597317482,0.0033196332595637054,0.0022017997319548153,0.004034906634137187,0.005495356037151703,0.006427915518824609,0.0024923843810578787,0.001708150317227916,0.0017438173747622067,0.002670991128493752,0.0027281279397930384,0.0030995738086013174,0.006076923076923077,0.004062788550323176,0.0061180789232181095,0.02276319949415112,0.014802631578947368,0.005839691061505134,0.024201054917778467,0.007309941520467836,0.023101090371465533,0.06992847359610409,0.11474896216808961,0.04771505376344086,0.01002435825370058,0.03044315992292871,0.00899390243902439,0.005948567767914341,0.021559268098647572,0.004912280701754386,0.005246589716684155,0.010640249495505412,0.02268913693733129,0.01741417300447793,0.08731171815164666,0.1711718630010751,0.2611231101511879,0.22894245308191763,0.19729611862189272,0.20484708597807272,0.07760040088767986,0.015955189680047527,0.01291565577279863,0.008012236870857309,0.002697841726618705,0.0014900517135594707,0.0039826212889210715,0.002292427824342718,0.0046102621019380174,0.013148492210947549,0.004294969789619276,0.0032410651716888576,0.002205819971154662,0.0026172740084558083,0.004497354497354497,0.0023813067420747134,0.003373432626821972,0.003190606853423521,0.0025589330024813894,0.0019332292363744515,0.0017793594306049821,0.002134016218523261,0.0549022243128822,0.09779218396428353,0.0787048414843942,0.012344808126410835,0.034060414229684165,0.020776546126355322,0.0022371364653243847,0.0019915029208709507,0.002608431907794965,0.011595971925541654,0.0032163333799468605,0.004647030684070252,0.002717719531344365,0.0019296870288850027,0.0022483798439359875,0.0044398491667680335,0.0035370167093547993,0.0019456604822458482,0.0015675049410481838,0.0026499638641291254,0.0014857957922263165,0.002421782955884278,0.009431146660299648,0.00253942006732416,0.0004861448711716091,0.001291901815462025,0.0014745782706146041,0.0023559901048415596,0.004633255024797703,0.05904233335301411,0.01612614226841068,0.0019508670520231213,0.0017145306472353193,0.0039445374133397085,0.0034109269343546166,0.0013422818791946308,0.0008400840084008401,0.006021194605009634,0.0010168506682161533,0.0012110849896701575,0.0006565988181221273,0.012981574539363484,0.005989635910895753,0.0019192706771426857,0.0004813188135491246,0.0022535620820005814,0.0014990363337854236,0.0009580838323353293,0.0035904419957905162,0.0018311291963377416,0.001328341987682647,0.005391652026413037,0.00996118069288801,0.0014614795740830956,0.0014491913512260158,0.0012058570198105081,0.001011825713020932,0.0012423061720029363,0.014613778705636743,0.03653086339788846,0.0043765064061905366,0.00117864960431049,0.0005611987204669173,0.0006298419096806701,0.009895979758223221,0.00432705816240517,0.005435126082285281,0.0010530227948463825,0.0005005561735261402,0.0009436580627255065,0.000994777418552599,0.0008918120506103339,0.008517034068136272,0.004570784546991422,0.0023787740164684353,0.0011602850986242334,0.002626970227670753,0.0009314456035767511,0.0023973804233422993,0.012913907284768211,0.0027687492476224872,0.0015371881281778408,0.0034189860569474864,0.005352039490776825,0.0072094055013309675,0.0112837119870465,0.03188156831042845,0.016560091818330874,0.01432082932563856,0.01146938980834046,0.00695730517042895,0.013687513525210993,0.014099454214675561,0.012750088192309631,0.036550573289551594,0.025019794140934283,0.011012664564248886,0.016134654648672874,0.013273860705073087,0.014899914714292882,0.03914680050188206,0.014332492350636106,0.00688893563315103,0.019193282351177086,0.022263173622870804,0.03582571274878967,0.01698492462311558,0.021373969020317844,0.015964308750806278,0.014449952536652252,0.03636720090182816,0.03886770313875037,0.01898972510624563,0.008730203145111646,0.00980829246544806,0.026140039653553167,0.022660706027439494,0.017009803921568627,0.01981409001956947,0.009910384818133895,0.013920999557282699,0.020756661268953334,0.013776548557115274,0.015436689060977485,0.012616913484021823,0.00811073336571151,0.035245515870940755,0.021017645046189942,0.018127771551094,0.006897267022766167,0.010806953152877606,0.010020917449044122,0.00980154301518754,0.01612565445026178,0.01379850271566277,0.018148112010927895,0.008521693946479605,0.004240102171136654,0.01497107859816264,0.009704968944099378,0.02233758061978921,0.05180257300787556,0.05730030235053155,0.04942528735632184,0.03220173591495044,0.028649121103233952,0.031169712540598186,0.020634837079538875,0.020837409508902366,0.049605301627521685,0.03347126918443245,0.0440639621574374,0.017433108337784685,0.02597654356886692,0.051532839038754795,0.039741581832419735,0.020421124627485465,0.040668676349684844,0.03688675765400221,0.022081094284318516,0.020522113924670616,0.01646180860403863,0.04351489319522228,0.010490744943763555,0.02696800960803581,0.026700437971610997,0.015052292053562701,0.016829745596868884,0.01146965206892767,0.030855331583378734,0.0345488475311444,0.021239421239421238,0.05058078141499472,0.04151386240281649,0.02497687326549491,0.017315527387958354,0.015266324938711833,0.012341197822141561,0.028075091061922106,0.013978918888450481,0.013203474069983434,0.012580515297906603,0.012294604358466379,0.0057928672174088255,0.01651338854732991,0.02348993288590604,0.004064361672512666,0.005304908279623203,0.002639179364605119,0.004314868804664723,0.003583694191428998,0.0024918633034987795,0.0027369141293191925,0.004286589099816289,0.032959952418715306,0.011186794610450952,0.007760532150776054,0.003732271709380443,0.002085346625298815,0.010513084218946407,0.0036239964317573595,0.01837816416505672,0.011812789712405921,0.007202248506850919,0.006936473875941913,0.004762148599518665,0.0034143287998634267,0.002600708277999115,0.0028677379480840544,0.026891005082153255,0.05937201595236758,0.07492552135054617,0.04635794494683494,0.008892304314414316,0.029772049424797616,0.011099106178175031,0.005268340718857706,0.007928029238122013,0.005861606477571904,0.003587622701679207,0.0025330396475770926,0.001921537229783827,0.044578786985156785,0.04524396254312469,0.013792715194505433,0.015088346237839985,0.031287365484256674,0.013217314682233727,0.009611790462967907,0.025543852741411556,0.020502939578084085,0.036662817551963045,0.07312860920718874,0.034178665736634944,0.009624426129763814,0.005562029876046191,0.004728247623689983,0.0063015973816618635,0.008083140877598153,0.0065832784726793945,0.009177953068412958,0.002963211450296321,0.008141917394586433,0.006480754124116261,0.008660991092958023,0.0072121068810593525,0.00716990658924514,0.006442979630272092,0.005027652086475616,0.0027771843623157445,0.003031488362996284,0.00432521747582252,0.005271042556733063,0.004479114242576749,0.005393688879927412,0.002597275311182985,0.002715578847070033,0.003220991436876424,0.0019053472649047326,0.0015427490793271624,0.003187848670948385,0.0039855760106282025,0.003027930044374837,0.007236593400658854,0.006025911419102139,0.004427450191185349,0.004197335604355496,0.006781054145689921,0.00818610434692503,0.008111839834311357,0.008757829388614823,0.005401549123522218,0.020445622801203284,0.012481554353172651,0.005530573215485605,0.003940478042204594,0.01433093525179856,0.028309788374560278,0.012380615493455961,0.007313432835820896,0.02283407972576989,0.018095825622044006,0.008749874283415468,0.006168397244782564,0.005227895645112172,0.01083086053412463,0.03640283338466276,0.04995172191824911,0.07699019658163528,0.07241133306155728,0.06232012976819633,0.051598574453798875,0.07133031028684975,0.09083060985385706],\"type\":\"heatmap\",\"xaxis\":\"x\",\"yaxis\":\"y\",\"zmax\":0.2611231101511879,\"zmin\":0.0004813188135491246},{\"hoverinfo\":\"skip\",\"line\":{\"color\":\"#9e9e9e\",\"width\":1},\"mode\":\"lines\",\"x\":[-0.5,-0.5],\"y\":[3.5,6.5],\"type\":\"scatter\",\"xaxis\":\"x\",\"yaxis\":\"y\"},{\"hoverinfo\":\"skip\",\"line\":{\"color\":\"#9e9e9e\",\"width\":1},\"mode\":\"lines\",\"x\":[-0.5,0.5],\"y\":[3.5,3.5],\"type\":\"scatter\",\"xaxis\":\"x\",\"yaxis\":\"y\"},{\"hoverinfo\":\"skip\",\"line\":{\"color\":\"#9e9e9e\",\"width\":1},\"mode\":\"lines\",\"x\":[0.5,0.5],\"y\":[3.5,-0.5],\"type\":\"scatter\",\"xaxis\":\"x\",\"yaxis\":\"y\"},{\"hoverinfo\":\"skip\",\"line\":{\"color\":\"#9e9e9e\",\"width\":1},\"mode\":\"lines\",\"x\":[4.5,4.5],\"y\":[-0.5,6.5],\"type\":\"scatter\",\"xaxis\":\"x\",\"yaxis\":\"y\"},{\"hoverinfo\":\"skip\",\"line\":{\"color\":\"#9e9e9e\",\"width\":1},\"mode\":\"lines\",\"x\":[8.5,8.5],\"y\":[-0.5,6.5],\"type\":\"scatter\",\"xaxis\":\"x\",\"yaxis\":\"y\"},{\"hoverinfo\":\"skip\",\"line\":{\"color\":\"#9e9e9e\",\"width\":1},\"mode\":\"lines\",\"x\":[12.5,12.5],\"y\":[2.5,6.5],\"type\":\"scatter\",\"xaxis\":\"x\",\"yaxis\":\"y\"},{\"hoverinfo\":\"skip\",\"line\":{\"color\":\"#9e9e9e\",\"width\":1},\"mode\":\"lines\",\"x\":[12.5,13.5],\"y\":[2.5,2.5],\"type\":\"scatter\",\"xaxis\":\"x\",\"yaxis\":\"y\"},{\"hoverinfo\":\"skip\",\"line\":{\"color\":\"#9e9e9e\",\"width\":1},\"mode\":\"lines\",\"x\":[13.5,13.5],\"y\":[2.5,-0.5],\"type\":\"scatter\",\"xaxis\":\"x\",\"yaxis\":\"y\"},{\"hoverinfo\":\"skip\",\"line\":{\"color\":\"#9e9e9e\",\"width\":1},\"mode\":\"lines\",\"x\":[16.5,16.5],\"y\":[4.5,6.5],\"type\":\"scatter\",\"xaxis\":\"x\",\"yaxis\":\"y\"},{\"hoverinfo\":\"skip\",\"line\":{\"color\":\"#9e9e9e\",\"width\":1},\"mode\":\"lines\",\"x\":[16.5,17.5],\"y\":[4.5,4.5],\"type\":\"scatter\",\"xaxis\":\"x\",\"yaxis\":\"y\"},{\"hoverinfo\":\"skip\",\"line\":{\"color\":\"#9e9e9e\",\"width\":1},\"mode\":\"lines\",\"x\":[17.5,17.5],\"y\":[4.5,-0.5],\"type\":\"scatter\",\"xaxis\":\"x\",\"yaxis\":\"y\"},{\"hoverinfo\":\"skip\",\"line\":{\"color\":\"#9e9e9e\",\"width\":1},\"mode\":\"lines\",\"x\":[21.5,21.5],\"y\":[0.5,6.5],\"type\":\"scatter\",\"xaxis\":\"x\",\"yaxis\":\"y\"},{\"hoverinfo\":\"skip\",\"line\":{\"color\":\"#9e9e9e\",\"width\":1},\"mode\":\"lines\",\"x\":[21.5,22.5],\"y\":[0.5,0.5],\"type\":\"scatter\",\"xaxis\":\"x\",\"yaxis\":\"y\"},{\"hoverinfo\":\"skip\",\"line\":{\"color\":\"#9e9e9e\",\"width\":1},\"mode\":\"lines\",\"x\":[22.5,22.5],\"y\":[0.5,-0.5],\"type\":\"scatter\",\"xaxis\":\"x\",\"yaxis\":\"y\"},{\"hoverinfo\":\"skip\",\"line\":{\"color\":\"#9e9e9e\",\"width\":1},\"mode\":\"lines\",\"x\":[25.5,25.5],\"y\":[2.5,6.5],\"type\":\"scatter\",\"xaxis\":\"x\",\"yaxis\":\"y\"},{\"hoverinfo\":\"skip\",\"line\":{\"color\":\"#9e9e9e\",\"width\":1},\"mode\":\"lines\",\"x\":[25.5,26.5],\"y\":[2.5,2.5],\"type\":\"scatter\",\"xaxis\":\"x\",\"yaxis\":\"y\"},{\"hoverinfo\":\"skip\",\"line\":{\"color\":\"#9e9e9e\",\"width\":1},\"mode\":\"lines\",\"x\":[26.5,26.5],\"y\":[2.5,-0.5],\"type\":\"scatter\",\"xaxis\":\"x\",\"yaxis\":\"y\"},{\"hoverinfo\":\"skip\",\"line\":{\"color\":\"#9e9e9e\",\"width\":1},\"mode\":\"lines\",\"x\":[29.5,29.5],\"y\":[5.5,6.5],\"type\":\"scatter\",\"xaxis\":\"x\",\"yaxis\":\"y\"},{\"hoverinfo\":\"skip\",\"line\":{\"color\":\"#9e9e9e\",\"width\":1},\"mode\":\"lines\",\"x\":[29.5,30.5],\"y\":[5.5,5.5],\"type\":\"scatter\",\"xaxis\":\"x\",\"yaxis\":\"y\"},{\"hoverinfo\":\"skip\",\"line\":{\"color\":\"#9e9e9e\",\"width\":1},\"mode\":\"lines\",\"x\":[30.5,30.5],\"y\":[5.5,-0.5],\"type\":\"scatter\",\"xaxis\":\"x\",\"yaxis\":\"y\"},{\"hoverinfo\":\"skip\",\"line\":{\"color\":\"#9e9e9e\",\"width\":1},\"mode\":\"lines\",\"x\":[34.5,34.5],\"y\":[1.5,6.5],\"type\":\"scatter\",\"xaxis\":\"x\",\"yaxis\":\"y\"},{\"hoverinfo\":\"skip\",\"line\":{\"color\":\"#9e9e9e\",\"width\":1},\"mode\":\"lines\",\"x\":[34.5,35.5],\"y\":[1.5,1.5],\"type\":\"scatter\",\"xaxis\":\"x\",\"yaxis\":\"y\"},{\"hoverinfo\":\"skip\",\"line\":{\"color\":\"#9e9e9e\",\"width\":1},\"mode\":\"lines\",\"x\":[35.5,35.5],\"y\":[1.5,-0.5],\"type\":\"scatter\",\"xaxis\":\"x\",\"yaxis\":\"y\"},{\"hoverinfo\":\"skip\",\"line\":{\"color\":\"#9e9e9e\",\"width\":1},\"mode\":\"lines\",\"x\":[38.5,38.5],\"y\":[3.5,6.5],\"type\":\"scatter\",\"xaxis\":\"x\",\"yaxis\":\"y\"},{\"hoverinfo\":\"skip\",\"line\":{\"color\":\"#9e9e9e\",\"width\":1},\"mode\":\"lines\",\"x\":[38.5,39.5],\"y\":[3.5,3.5],\"type\":\"scatter\",\"xaxis\":\"x\",\"yaxis\":\"y\"},{\"hoverinfo\":\"skip\",\"line\":{\"color\":\"#9e9e9e\",\"width\":1},\"mode\":\"lines\",\"x\":[39.5,39.5],\"y\":[3.5,-0.5],\"type\":\"scatter\",\"xaxis\":\"x\",\"yaxis\":\"y\"},{\"hoverinfo\":\"skip\",\"line\":{\"color\":\"#9e9e9e\",\"width\":1},\"mode\":\"lines\",\"x\":[43.5,43.5],\"y\":[-0.5,6.5],\"type\":\"scatter\",\"xaxis\":\"x\",\"yaxis\":\"y\"},{\"hoverinfo\":\"skip\",\"line\":{\"color\":\"#9e9e9e\",\"width\":1},\"mode\":\"lines\",\"x\":[47.5,47.5],\"y\":[1.5,6.5],\"type\":\"scatter\",\"xaxis\":\"x\",\"yaxis\":\"y\"},{\"hoverinfo\":\"skip\",\"line\":{\"color\":\"#9e9e9e\",\"width\":1},\"mode\":\"lines\",\"x\":[47.5,48.5],\"y\":[1.5,1.5],\"type\":\"scatter\",\"xaxis\":\"x\",\"yaxis\":\"y\"},{\"hoverinfo\":\"skip\",\"line\":{\"color\":\"#9e9e9e\",\"width\":1},\"mode\":\"lines\",\"x\":[48.5,48.5],\"y\":[1.5,-0.5],\"type\":\"scatter\",\"xaxis\":\"x\",\"yaxis\":\"y\"}],                        {\"template\":{\"data\":{\"histogram2dcontour\":[{\"type\":\"histogram2dcontour\",\"colorbar\":{\"outlinewidth\":0,\"ticks\":\"\"},\"colorscale\":[[0.0,\"#0d0887\"],[0.1111111111111111,\"#46039f\"],[0.2222222222222222,\"#7201a8\"],[0.3333333333333333,\"#9c179e\"],[0.4444444444444444,\"#bd3786\"],[0.5555555555555556,\"#d8576b\"],[0.6666666666666666,\"#ed7953\"],[0.7777777777777778,\"#fb9f3a\"],[0.8888888888888888,\"#fdca26\"],[1.0,\"#f0f921\"]]}],\"choropleth\":[{\"type\":\"choropleth\",\"colorbar\":{\"outlinewidth\":0,\"ticks\":\"\"}}],\"histogram2d\":[{\"type\":\"histogram2d\",\"colorbar\":{\"outlinewidth\":0,\"ticks\":\"\"},\"colorscale\":[[0.0,\"#0d0887\"],[0.1111111111111111,\"#46039f\"],[0.2222222222222222,\"#7201a8\"],[0.3333333333333333,\"#9c179e\"],[0.4444444444444444,\"#bd3786\"],[0.5555555555555556,\"#d8576b\"],[0.6666666666666666,\"#ed7953\"],[0.7777777777777778,\"#fb9f3a\"],[0.8888888888888888,\"#fdca26\"],[1.0,\"#f0f921\"]]}],\"heatmap\":[{\"type\":\"heatmap\",\"colorbar\":{\"outlinewidth\":0,\"ticks\":\"\"},\"colorscale\":[[0.0,\"#0d0887\"],[0.1111111111111111,\"#46039f\"],[0.2222222222222222,\"#7201a8\"],[0.3333333333333333,\"#9c179e\"],[0.4444444444444444,\"#bd3786\"],[0.5555555555555556,\"#d8576b\"],[0.6666666666666666,\"#ed7953\"],[0.7777777777777778,\"#fb9f3a\"],[0.8888888888888888,\"#fdca26\"],[1.0,\"#f0f921\"]]}],\"heatmapgl\":[{\"type\":\"heatmapgl\",\"colorbar\":{\"outlinewidth\":0,\"ticks\":\"\"},\"colorscale\":[[0.0,\"#0d0887\"],[0.1111111111111111,\"#46039f\"],[0.2222222222222222,\"#7201a8\"],[0.3333333333333333,\"#9c179e\"],[0.4444444444444444,\"#bd3786\"],[0.5555555555555556,\"#d8576b\"],[0.6666666666666666,\"#ed7953\"],[0.7777777777777778,\"#fb9f3a\"],[0.8888888888888888,\"#fdca26\"],[1.0,\"#f0f921\"]]}],\"contourcarpet\":[{\"type\":\"contourcarpet\",\"colorbar\":{\"outlinewidth\":0,\"ticks\":\"\"}}],\"contour\":[{\"type\":\"contour\",\"colorbar\":{\"outlinewidth\":0,\"ticks\":\"\"},\"colorscale\":[[0.0,\"#0d0887\"],[0.1111111111111111,\"#46039f\"],[0.2222222222222222,\"#7201a8\"],[0.3333333333333333,\"#9c179e\"],[0.4444444444444444,\"#bd3786\"],[0.5555555555555556,\"#d8576b\"],[0.6666666666666666,\"#ed7953\"],[0.7777777777777778,\"#fb9f3a\"],[0.8888888888888888,\"#fdca26\"],[1.0,\"#f0f921\"]]}],\"surface\":[{\"type\":\"surface\",\"colorbar\":{\"outlinewidth\":0,\"ticks\":\"\"},\"colorscale\":[[0.0,\"#0d0887\"],[0.1111111111111111,\"#46039f\"],[0.2222222222222222,\"#7201a8\"],[0.3333333333333333,\"#9c179e\"],[0.4444444444444444,\"#bd3786\"],[0.5555555555555556,\"#d8576b\"],[0.6666666666666666,\"#ed7953\"],[0.7777777777777778,\"#fb9f3a\"],[0.8888888888888888,\"#fdca26\"],[1.0,\"#f0f921\"]]}],\"mesh3d\":[{\"type\":\"mesh3d\",\"colorbar\":{\"outlinewidth\":0,\"ticks\":\"\"}}],\"scatter\":[{\"fillpattern\":{\"fillmode\":\"overlay\",\"size\":10,\"solidity\":0.2},\"type\":\"scatter\"}],\"parcoords\":[{\"type\":\"parcoords\",\"line\":{\"colorbar\":{\"outlinewidth\":0,\"ticks\":\"\"}}}],\"scatterpolargl\":[{\"type\":\"scatterpolargl\",\"marker\":{\"colorbar\":{\"outlinewidth\":0,\"ticks\":\"\"}}}],\"bar\":[{\"error_x\":{\"color\":\"#2a3f5f\"},\"error_y\":{\"color\":\"#2a3f5f\"},\"marker\":{\"line\":{\"color\":\"#E5ECF6\",\"width\":0.5},\"pattern\":{\"fillmode\":\"overlay\",\"size\":10,\"solidity\":0.2}},\"type\":\"bar\"}],\"scattergeo\":[{\"type\":\"scattergeo\",\"marker\":{\"colorbar\":{\"outlinewidth\":0,\"ticks\":\"\"}}}],\"scatterpolar\":[{\"type\":\"scatterpolar\",\"marker\":{\"colorbar\":{\"outlinewidth\":0,\"ticks\":\"\"}}}],\"histogram\":[{\"marker\":{\"pattern\":{\"fillmode\":\"overlay\",\"size\":10,\"solidity\":0.2}},\"type\":\"histogram\"}],\"scattergl\":[{\"type\":\"scattergl\",\"marker\":{\"colorbar\":{\"outlinewidth\":0,\"ticks\":\"\"}}}],\"scatter3d\":[{\"type\":\"scatter3d\",\"line\":{\"colorbar\":{\"outlinewidth\":0,\"ticks\":\"\"}},\"marker\":{\"colorbar\":{\"outlinewidth\":0,\"ticks\":\"\"}}}],\"scattermapbox\":[{\"type\":\"scattermapbox\",\"marker\":{\"colorbar\":{\"outlinewidth\":0,\"ticks\":\"\"}}}],\"scatterternary\":[{\"type\":\"scatterternary\",\"marker\":{\"colorbar\":{\"outlinewidth\":0,\"ticks\":\"\"}}}],\"scattercarpet\":[{\"type\":\"scattercarpet\",\"marker\":{\"colorbar\":{\"outlinewidth\":0,\"ticks\":\"\"}}}],\"carpet\":[{\"aaxis\":{\"endlinecolor\":\"#2a3f5f\",\"gridcolor\":\"white\",\"linecolor\":\"white\",\"minorgridcolor\":\"white\",\"startlinecolor\":\"#2a3f5f\"},\"baxis\":{\"endlinecolor\":\"#2a3f5f\",\"gridcolor\":\"white\",\"linecolor\":\"white\",\"minorgridcolor\":\"white\",\"startlinecolor\":\"#2a3f5f\"},\"type\":\"carpet\"}],\"table\":[{\"cells\":{\"fill\":{\"color\":\"#EBF0F8\"},\"line\":{\"color\":\"white\"}},\"header\":{\"fill\":{\"color\":\"#C8D4E3\"},\"line\":{\"color\":\"white\"}},\"type\":\"table\"}],\"barpolar\":[{\"marker\":{\"line\":{\"color\":\"#E5ECF6\",\"width\":0.5},\"pattern\":{\"fillmode\":\"overlay\",\"size\":10,\"solidity\":0.2}},\"type\":\"barpolar\"}],\"pie\":[{\"automargin\":true,\"type\":\"pie\"}]},\"layout\":{\"autotypenumbers\":\"strict\",\"colorway\":[\"#636efa\",\"#EF553B\",\"#00cc96\",\"#ab63fa\",\"#FFA15A\",\"#19d3f3\",\"#FF6692\",\"#B6E880\",\"#FF97FF\",\"#FECB52\"],\"font\":{\"color\":\"#2a3f5f\"},\"hovermode\":\"closest\",\"hoverlabel\":{\"align\":\"left\"},\"paper_bgcolor\":\"white\",\"plot_bgcolor\":\"#E5ECF6\",\"polar\":{\"bgcolor\":\"#E5ECF6\",\"angularaxis\":{\"gridcolor\":\"white\",\"linecolor\":\"white\",\"ticks\":\"\"},\"radialaxis\":{\"gridcolor\":\"white\",\"linecolor\":\"white\",\"ticks\":\"\"}},\"ternary\":{\"bgcolor\":\"#E5ECF6\",\"aaxis\":{\"gridcolor\":\"white\",\"linecolor\":\"white\",\"ticks\":\"\"},\"baxis\":{\"gridcolor\":\"white\",\"linecolor\":\"white\",\"ticks\":\"\"},\"caxis\":{\"gridcolor\":\"white\",\"linecolor\":\"white\",\"ticks\":\"\"}},\"coloraxis\":{\"colorbar\":{\"outlinewidth\":0,\"ticks\":\"\"}},\"colorscale\":{\"sequential\":[[0.0,\"#0d0887\"],[0.1111111111111111,\"#46039f\"],[0.2222222222222222,\"#7201a8\"],[0.3333333333333333,\"#9c179e\"],[0.4444444444444444,\"#bd3786\"],[0.5555555555555556,\"#d8576b\"],[0.6666666666666666,\"#ed7953\"],[0.7777777777777778,\"#fb9f3a\"],[0.8888888888888888,\"#fdca26\"],[1.0,\"#f0f921\"]],\"sequentialminus\":[[0.0,\"#0d0887\"],[0.1111111111111111,\"#46039f\"],[0.2222222222222222,\"#7201a8\"],[0.3333333333333333,\"#9c179e\"],[0.4444444444444444,\"#bd3786\"],[0.5555555555555556,\"#d8576b\"],[0.6666666666666666,\"#ed7953\"],[0.7777777777777778,\"#fb9f3a\"],[0.8888888888888888,\"#fdca26\"],[1.0,\"#f0f921\"]],\"diverging\":[[0,\"#8e0152\"],[0.1,\"#c51b7d\"],[0.2,\"#de77ae\"],[0.3,\"#f1b6da\"],[0.4,\"#fde0ef\"],[0.5,\"#f7f7f7\"],[0.6,\"#e6f5d0\"],[0.7,\"#b8e186\"],[0.8,\"#7fbc41\"],[0.9,\"#4d9221\"],[1,\"#276419\"]]},\"xaxis\":{\"gridcolor\":\"white\",\"linecolor\":\"white\",\"ticks\":\"\",\"title\":{\"standoff\":15},\"zerolinecolor\":\"white\",\"automargin\":true,\"zerolinewidth\":2},\"yaxis\":{\"gridcolor\":\"white\",\"linecolor\":\"white\",\"ticks\":\"\",\"title\":{\"standoff\":15},\"zerolinecolor\":\"white\",\"automargin\":true,\"zerolinewidth\":2},\"scene\":{\"xaxis\":{\"backgroundcolor\":\"#E5ECF6\",\"gridcolor\":\"white\",\"linecolor\":\"white\",\"showbackground\":true,\"ticks\":\"\",\"zerolinecolor\":\"white\",\"gridwidth\":2},\"yaxis\":{\"backgroundcolor\":\"#E5ECF6\",\"gridcolor\":\"white\",\"linecolor\":\"white\",\"showbackground\":true,\"ticks\":\"\",\"zerolinecolor\":\"white\",\"gridwidth\":2},\"zaxis\":{\"backgroundcolor\":\"#E5ECF6\",\"gridcolor\":\"white\",\"linecolor\":\"white\",\"showbackground\":true,\"ticks\":\"\",\"zerolinecolor\":\"white\",\"gridwidth\":2}},\"shapedefaults\":{\"line\":{\"color\":\"#2a3f5f\"}},\"annotationdefaults\":{\"arrowcolor\":\"#2a3f5f\",\"arrowhead\":0,\"arrowwidth\":1},\"geo\":{\"bgcolor\":\"white\",\"landcolor\":\"#E5ECF6\",\"subunitcolor\":\"white\",\"showland\":true,\"showlakes\":true,\"lakecolor\":\"white\"},\"title\":{\"x\":0.05},\"mapbox\":{\"style\":\"light\"}}},\"xaxis\":{\"anchor\":\"y\",\"domain\":[0.0,1.0],\"showgrid\":false,\"showline\":false,\"tickmode\":\"array\",\"ticktext\":[\"January\",\"February\",\"March\",\"April\",\"May\",\"June\",\"July\",\"August\",\"September\",\"October\",\"November\",\"December\"],\"tickvals\":[1.5,5.909090909090909,10.318181818181818,14.727272727272727,19.136363636363637,23.545454545454547,27.954545454545453,32.36363636363636,36.77272727272727,41.18181818181818,45.59090909090909,50.0],\"zeroline\":false},\"yaxis\":{\"anchor\":\"x\",\"domain\":[0.0,1.0],\"autorange\":\"reversed\",\"showgrid\":false,\"showline\":false,\"tickmode\":\"array\",\"ticktext\":[\"Mon\",\"Tue\",\"Wed\",\"Thu\",\"Fri\",\"Sat\",\"Sun\"],\"tickvals\":[0,1,2,3,4,5,6],\"zeroline\":false},\"font\":{\"color\":\"#fff\",\"size\":10},\"margin\":{\"b\":20,\"t\":20},\"title\":{\"text\":\"US Flight Cancellations\"},\"paper_bgcolor\":\"#333\",\"plot_bgcolor\":\"#333\",\"showlegend\":false,\"height\":150},                        {\"responsive\": true}                    ).then(function(){\n",
       "                            \n",
       "var gd = document.getElementById('a76b4174-7819-44d8-84ed-b100bf3f4c09');\n",
       "var x = new MutationObserver(function (mutations, observer) {{\n",
       "        var display = window.getComputedStyle(gd).display;\n",
       "        if (!display || display === 'none') {{\n",
       "            console.log([gd, 'removed!']);\n",
       "            Plotly.purge(gd);\n",
       "            observer.disconnect();\n",
       "        }}\n",
       "}});\n",
       "\n",
       "// Listen for the removal of the full notebook cells\n",
       "var notebookContainer = gd.closest('#notebook-container');\n",
       "if (notebookContainer) {{\n",
       "    x.observe(notebookContainer, {childList: true});\n",
       "}}\n",
       "\n",
       "// Listen for the clearing of the current output cell\n",
       "var outputEl = gd.closest('.output');\n",
       "if (outputEl) {{\n",
       "    x.observe(outputEl, {childList: true});\n",
       "}}\n",
       "\n",
       "                        })                };                });            </script>        </div>"
      ]
     },
     "metadata": {},
     "output_type": "display_data"
    }
   ],
   "source": [
    "fig = calplot(events.reset_index(), x='FlightDate', dark_theme=True, y='Cancelled', title='US Flight Cancellations')\n",
    "fig.show()"
   ]
  },
  {
   "cell_type": "code",
   "execution_count": 77,
   "id": "e82bbd49",
   "metadata": {},
   "outputs": [
    {
     "data": {
      "image/png": "[encoded data removed]",
      "text/plain": [
       "<Figure size 2000x1200 with 1 Axes>"
      ]
     },
     "metadata": {},
     "output_type": "display_data"
    }
   ],
   "source": [
    "# Delay categories per Airline.\n",
    "plt.figure(figsize=(20,12))\n",
    "airline_order = df['Airline'].value_counts().index.tolist()\n",
    "sns.countplot(data=df, y='Airline', order=airline_order, hue='DelayGroup', dodge=False)\n",
    "plt.show()"
   ]
  },
  {
   "cell_type": "code",
   "execution_count": 78,
   "id": "a249fb96",
   "metadata": {},
   "outputs": [
    {
     "data": {
      "text/plain": [
       "5785"
      ]
     },
     "execution_count": 78,
     "metadata": {},
     "output_type": "execute_result"
    }
   ],
   "source": [
    "df['Tail_Number'].nunique()"
   ]
  },
  {
   "cell_type": "code",
   "execution_count": 79,
   "id": "68dc6700",
   "metadata": {},
   "outputs": [
    {
     "data": {
      "text/plain": [
       "Tail_Number\n",
       "N8549Z    1040\n",
       "N8678E    1015\n",
       "N8655D    1014\n",
       "N8569Z    1012\n",
       "N8641B    1011\n",
       "N8539V    1010\n",
       "N8630B    1008\n",
       "N8544Z    1006\n",
       "N923WN    1005\n",
       "N8648A    1002\n",
       "Name: count, dtype: int64"
      ]
     },
     "execution_count": 79,
     "metadata": {},
     "output_type": "execute_result"
    }
   ],
   "source": [
    "df[df['DelayGroup'] != 'OnTime_Early']['Tail_Number'].value_counts().head(10)"
   ]
  },
  {
   "cell_type": "code",
   "execution_count": null,
   "id": "9a2d2eb5",
   "metadata": {},
   "outputs": [],
   "source": []
  }
 ],
 "metadata": {
  "kernelspec": {
   "display_name": "Python 3 (ipykernel)",
   "language": "python",
   "name": "python3"
  },
  "language_info": {
   "codemirror_mode": {
    "name": "ipython",
    "version": 3
   },
   "file_extension": ".py",
   "mimetype": "text/x-python",
   "name": "python",
   "nbconvert_exporter": "python",
   "pygments_lexer": "ipython3",
   "version": "3.10.13"
  }
 },
 "nbformat": 4,
 "nbformat_minor": 5
}
